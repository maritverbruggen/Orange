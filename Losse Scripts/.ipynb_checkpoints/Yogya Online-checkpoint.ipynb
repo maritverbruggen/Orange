{
 "cells": [
  {
   "cell_type": "code",
   "execution_count": 1,
   "id": "ffe30a48",
   "metadata": {},
   "outputs": [
    {
     "name": "stderr",
     "output_type": "stream",
     "text": [
      "\n",
      "\n",
      "====== WebDriver manager ======\n",
      "Current google-chrome version is 102.0.5005\n",
      "Get LATEST chromedriver version for 102.0.5005 google-chrome\n",
      "Driver [C:\\Users\\verbr\\.wdm\\drivers\\chromedriver\\win32\\102.0.5005.61\\chromedriver.exe] found in cache\n",
      "C:\\Users\\verbr\\AppData\\Local\\Temp/ipykernel_5788/780970375.py:7: DeprecationWarning: executable_path has been deprecated, please pass in a Service object\n",
      "  driver = webdriver.Chrome(ChromeDriverManager().install(), options=options)\n"
     ]
    }
   ],
   "source": [
    "from selenium import webdriver\n",
    "from selenium.webdriver.chrome.options import Options\n",
    "from webdriver_manager.chrome import ChromeDriverManager\n",
    "options = Options()\n",
    "options.add_argument(\"--disable-notifications\")\n",
    "\n",
    "driver = webdriver.Chrome(ChromeDriverManager().install(), options=options)\n",
    "\n",
    "from selenium.webdriver import ActionChains\n",
    "from selenium.webdriver.common.by import By\n",
    "from datetime import datetime\n",
    "from selenium.webdriver.common.keys import Keys\n",
    "\n",
    "\n",
    "import pandas as pd\n",
    "import statistics\n",
    "import csv\n",
    "from time import sleep\n",
    "import math"
   ]
  },
  {
   "cell_type": "code",
   "execution_count": 2,
   "id": "ee0a96b5",
   "metadata": {},
   "outputs": [],
   "source": [
    "from bs4 import BeautifulSoup\n",
    "res = driver.page_source.encode('utf-8')\n",
    "soup = BeautifulSoup(res, \"html.parser\")"
   ]
  },
  {
   "cell_type": "code",
   "execution_count": 3,
   "id": "e4dcb6dd",
   "metadata": {},
   "outputs": [],
   "source": [
    "driver.get('https://www.yogyaonline.co.id/minuman/minuman-kopi.html')\n",
    "driver.maximize_window()\n",
    "sleep(10)\n"
   ]
  },
  {
   "cell_type": "code",
   "execution_count": 4,
   "id": "db32c1d3",
   "metadata": {},
   "outputs": [
    {
     "name": "stdout",
     "output_type": "stream",
     "text": [
      "80\n",
      "80\n",
      "32\n",
      "kan niet vinden\n"
     ]
    }
   ],
   "source": [
    "def scroll_page(retailer):    \n",
    "    \n",
    "    #call get_url function to get the correct url linked to the Region that is going to be scraped    \n",
    "    sleep(1)\n",
    "    \n",
    "    res = driver.page_source.encode('utf-8')\n",
    "    soup = BeautifulSoup(res, \"html.parser\")\n",
    "    \n",
    "    num_products_view_2 = 0\n",
    "    number = 0\n",
    "    scroll_range = 0\n",
    "    \n",
    "    for _ in range(20): \n",
    "        \n",
    "        res = driver.page_source.encode('utf-8')\n",
    "        soup = BeautifulSoup(res, \"html.parser\")\n",
    "        \n",
    "        # total number of products in current view\n",
    "        num_products_view_1 = int(len(soup.find_all(attrs={\"class\": \"item product product-item\"})))\n",
    "        print(num_products_view_1)\n",
    "        #create attributes the_name_id, the_price_id, the_brand_id and the_volume_id \n",
    "        if num_products_view_1 > num_products_view_2: \n",
    "            for counter in range(num_products_view_2, num_products_view_1):\n",
    "                the_name_id = soup.find_all(attrs={\"class\": \"item product product-item\"})[counter].find_all(attrs={\"class\": \"product name product-item-name\"})[0].text\n",
    "                the_name_id = the_name_id.replace('\\n', \"\")\n",
    "                the_name_id = the_name_id.replace(\"\\t\", \"\")\n",
    "                the_name_id = the_name_id.replace(\"  \", \"\")\n",
    "                try:\n",
    "                    the_price_id = soup.find_all(attrs={\"class\": \"item product product-item\"})[counter].find_all(attrs={\"data-price-type\": \"oldPrice\"})[0].text\n",
    "                except:\n",
    "                    the_price_id = soup.find_all(attrs={\"class\": \"item product product-item\"})[counter].find_all(attrs={\"data-price-type\": \"finalPrice\"})[0].text\n",
    "                the_brand_id = soup.find_all(attrs={\"class\": \"item product product-item\"})[counter].find_all(attrs={\"class\": \"product name product-brand-name\"})[0].text\n",
    "                the_brand_id = the_brand_id.replace(\"\\n\", \"\")\n",
    "                the_brand_id = the_brand_id.replace(\"\\t\", \"\")\n",
    "                the_brand_id = the_brand_id.replace(\"  \", \"\")\n",
    "                the_volume_id = the_name_id.split()\n",
    "                the_volume_id = the_volume_id[-2] + \" \" + the_volume_id[-1]\n",
    "                number += 1\n",
    "                filename = \"Yogya\"\n",
    "                fullpath = \"../Output/\" + str(filename) + \".csv\"\n",
    "                #write variables per coffee product into csv file \n",
    "                with open(fullpath, mode='a', newline='', encoding='utf-8') as csv_file:\n",
    "                    writer = csv.writer(csv_file)\n",
    "                    writer.writerow([retailer, the_brand_id, the_volume_id,the_name_id, the_price_id])\n",
    "        \n",
    "        try:\n",
    "            new_element = driver.find_element(By.CSS_SELECTOR, '#maincontent > div.columns > div.column.main > div:nth-child(6) > div.pages > ul > li.item.pages-item-next > a')\n",
    "            new_element.click()\n",
    "            sleep(1)\n",
    "\n",
    "        except:\n",
    "            print('kan niet vinden')\n",
    "            break\n",
    "        \n",
    "        \n",
    "scroll_page(\"Yogya\")"
   ]
  },
  {
   "cell_type": "code",
   "execution_count": null,
   "id": "5d45bbb7",
   "metadata": {},
   "outputs": [],
   "source": []
  }
 ],
 "metadata": {
  "kernelspec": {
   "display_name": "Python 3 (ipykernel)",
   "language": "python",
   "name": "python3"
  },
  "language_info": {
   "codemirror_mode": {
    "name": "ipython",
    "version": 3
   },
   "file_extension": ".py",
   "mimetype": "text/x-python",
   "name": "python",
   "nbconvert_exporter": "python",
   "pygments_lexer": "ipython3",
   "version": "3.9.7"
  }
 },
 "nbformat": 4,
 "nbformat_minor": 5
}
