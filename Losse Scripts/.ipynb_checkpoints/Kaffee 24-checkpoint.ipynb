{
 "cells": [
  {
   "cell_type": "code",
   "execution_count": 1,
   "id": "3421d138",
   "metadata": {},
   "outputs": [
    {
     "name": "stderr",
     "output_type": "stream",
     "text": [
      "\n",
      "\n",
      "====== WebDriver manager ======\n",
      "Current google-chrome version is 102.0.5005\n",
      "Get LATEST chromedriver version for 102.0.5005 google-chrome\n",
      "Driver [C:\\Users\\verbr\\.wdm\\drivers\\chromedriver\\win32\\102.0.5005.61\\chromedriver.exe] found in cache\n",
      "C:\\Users\\verbr\\AppData\\Local\\Temp/ipykernel_17004/510945068.py:5: DeprecationWarning: executable_path has been deprecated, please pass in a Service object\n",
      "  driver = webdriver.Chrome(ChromeDriverManager().install())\n"
     ]
    }
   ],
   "source": [
    "from selenium import webdriver\n",
    "from selenium.webdriver.chrome.options import Options\n",
    "from webdriver_manager.chrome import ChromeDriverManager\n",
    "\n",
    "driver = webdriver.Chrome(ChromeDriverManager().install())\n",
    "\n",
    "from selenium.webdriver import ActionChains\n",
    "from selenium.webdriver.common.by import By\n",
    "from datetime import datetime\n",
    "from selenium.webdriver.common.keys import Keys\n",
    "# create action chain object\n",
    "action = ActionChains(driver)\n",
    "\n",
    "import pandas as pd\n",
    "import statistics\n",
    "import csv\n",
    "from time import sleep\n",
    "import math"
   ]
  },
  {
   "cell_type": "code",
   "execution_count": 2,
   "id": "68014f6f",
   "metadata": {},
   "outputs": [],
   "source": [
    "from bs4 import BeautifulSoup\n",
    "res = driver.page_source.encode('utf-8')\n",
    "soup = BeautifulSoup(res, \"html.parser\")"
   ]
  },
  {
   "cell_type": "code",
   "execution_count": 3,
   "id": "6278b779",
   "metadata": {},
   "outputs": [],
   "source": [
    "driver.get('https://www.kaffee24.de/kaffee-tee')\n",
    "driver.maximize_window()\n",
    "sleep(3)\n"
   ]
  },
  {
   "cell_type": "code",
   "execution_count": null,
   "id": "12cad9d1",
   "metadata": {},
   "outputs": [],
   "source": [
    "def scroll_page(retailer):    \n",
    "    \n",
    "    #call get_url function to get the correct url linked to the Region that is going to be scraped    \n",
    "    sleep(1)\n",
    "    \n",
    "    res = driver.page_source.encode('utf-8')\n",
    "    soup = BeautifulSoup(res, \"html.parser\")\n",
    "    \n",
    "    \n",
    "    num_products_view_2 = 0\n",
    "    #create a scroller that scrolls the_range amount of times.     \n",
    "    for _ in range(20):\n",
    "        res = driver.page_source.encode('utf-8')\n",
    "        soup = BeautifulSoup(res, \"html.parser\")\n",
    "        \n",
    "        # total number of wines in current view\n",
    "        num_products_view_1 = int(len(soup.find_all(attrs={\"class\": \"product--box box--minimal\"})))\n",
    "        \n",
    "        #create attributes the_name_id, the_price_id, the_reviews_id and the_rating id\n",
    "        for counter in range(num_products_view_2, num_products_view_1):\n",
    "            the_name_id = soup.find_all(attrs={\"class\": \"product--box box--minimal\"})[counter].find_all(attrs={\"class\": \"product--title\"})[0].text\n",
    "            the_name_id = the_name_id.replace(\"\\n\", \"\")\n",
    "            the_name_id = the_name_id.replace(\"  \", \"\")          \n",
    "            print(the_name_id)\n",
    "            \n",
    "            try: \n",
    "                the_price_id = soup.find_all(attrs={\"class\": \"product--box box--minimal\"})[counter].find_all(attrs={\"class\": \"price--pseudo\"})[0].text\n",
    "                the_price_id = the_price_id.replace(\"\\n\", \"\")\n",
    "                the_price_id = the_price_id.replace(\"  \", \"\")\n",
    "            except: \n",
    "                the_price_id = soup.find_all(attrs={\"class\": \"product--box box--minimal\"})[counter].find_all(attrs={\"class\": \"product--price\"})[0].text\n",
    "                the_price_id = the_price_id.replace(\"\\n\", \"\")\n",
    "                the_price_id = the_price_id.replace(\"  \", \"\")\n",
    "            print(the_price_id)\n",
    "            \n",
    "            the_brand_id = the_name_id.split()\n",
    "            the_brand_id = the_brand_id[0] + \" \" + the_brand_id[1]\n",
    "            try:\n",
    "                the_volume_id = soup.find_all(attrs={\"class\": \"product--box box--minimal\"})[counter].find_all(attrs={\"class\": \"is--nowrap\"})[1].text\n",
    "            except:\n",
    "                the_volume_id = \"No Volume Available\"\n",
    "            the_volume_id = the_volume_id.replace(\"\\n\", \"\")\n",
    "            the_volume_id = the_volume_id.replace(\"  \", \"\")\n",
    "            print(the_volume_id)\n",
    "            \n",
    "            filename = \"Kaffee24\"\n",
    "            fullpath = \"../Output/\" + str(filename) + \".csv\"\n",
    "            #write variables per wine into csv file \n",
    "            with open(fullpath, mode='a', newline='', encoding='utf-8') as csv_file:\n",
    "                writer = csv.writer(csv_file)\n",
    "                writer.writerow([retailer, the_brand_id, the_volume_id,the_name_id, the_price_id])\n",
    "            \n",
    "        #break als er geen \"next\" button gevonden kan worden  \n",
    "        sleep(10)\n",
    "        try:\n",
    "            new_element = driver.find_element(By.CSS_SELECTOR, 'body > div.page-wrap > section > div > div.content--wrapper > div > div.listing--wrapper.visible--.visible--.visible--.visible--.visible-- > div.listing--bottom-paging > div > a:nth-child(2) > i')\n",
    "            new_element.click()\n",
    "            sleep(1)\n",
    "        except: \n",
    "            try: \n",
    "                new_element = driver.find_element(By.CSS_SELECTOR, 'body > div.page-wrap > section > div > div.content--wrapper > div > div.listing--wrapper > div.listing--bottom-paging > div > a:nth-child(4)')\n",
    "                new_element.click()\n",
    "            except:\n",
    "                print('kan niet vinden')\n",
    "                break\n",
    "scroll_page(\"Kaffee24\")"
   ]
  },
  {
   "cell_type": "code",
   "execution_count": null,
   "id": "1d80fc30",
   "metadata": {},
   "outputs": [],
   "source": []
  }
 ],
 "metadata": {
  "kernelspec": {
   "display_name": "Python 3 (ipykernel)",
   "language": "python",
   "name": "python3"
  },
  "language_info": {
   "codemirror_mode": {
    "name": "ipython",
    "version": 3
   },
   "file_extension": ".py",
   "mimetype": "text/x-python",
   "name": "python",
   "nbconvert_exporter": "python",
   "pygments_lexer": "ipython3",
   "version": "3.9.7"
  }
 },
 "nbformat": 4,
 "nbformat_minor": 5
}
