{
 "cells": [
  {
   "cell_type": "code",
   "execution_count": 1,
   "id": "4ca1c796",
   "metadata": {},
   "outputs": [
    {
     "name": "stderr",
     "output_type": "stream",
     "text": [
      "\n",
      "\n",
      "====== WebDriver manager ======\n",
      "Current google-chrome version is 102.0.5005\n",
      "Get LATEST chromedriver version for 102.0.5005 google-chrome\n",
      "Driver [C:\\Users\\verbr\\.wdm\\drivers\\chromedriver\\win32\\102.0.5005.61\\chromedriver.exe] found in cache\n",
      "C:\\Users\\verbr\\AppData\\Local\\Temp/ipykernel_12760/780970375.py:7: DeprecationWarning: executable_path has been deprecated, please pass in a Service object\n",
      "  driver = webdriver.Chrome(ChromeDriverManager().install(), options=options)\n"
     ]
    }
   ],
   "source": [
    "from selenium import webdriver\n",
    "from selenium.webdriver.chrome.options import Options\n",
    "from webdriver_manager.chrome import ChromeDriverManager\n",
    "options = Options()\n",
    "options.add_argument(\"--disable-notifications\")\n",
    "\n",
    "driver = webdriver.Chrome(ChromeDriverManager().install(), options=options)\n",
    "\n",
    "from selenium.webdriver import ActionChains\n",
    "from selenium.webdriver.common.by import By\n",
    "from datetime import datetime\n",
    "from selenium.webdriver.common.keys import Keys\n",
    "\n",
    "\n",
    "import pandas as pd\n",
    "import statistics\n",
    "import csv\n",
    "from time import sleep\n",
    "import math"
   ]
  },
  {
   "cell_type": "code",
   "execution_count": 2,
   "id": "42b1684c",
   "metadata": {},
   "outputs": [],
   "source": [
    "from bs4 import BeautifulSoup\n",
    "res = driver.page_source.encode('utf-8')\n",
    "soup = BeautifulSoup(res, \"html.parser\")"
   ]
  },
  {
   "cell_type": "code",
   "execution_count": 3,
   "id": "f391a143",
   "metadata": {},
   "outputs": [],
   "source": [
    "driver.get('https://www.auchan.fr/epicerie-sucree/cafes/ca-n0502')\n",
    "driver.maximize_window()\n",
    "sleep(3)\n",
    "element = driver.find_element(By.CSS_SELECTOR, '#onetrust-accept-btn-handler')\n",
    "element.click()\n",
    "sleep(3)\n",
    "element = driver.find_element(By.CSS_SELECTOR, 'body > div.container-fluid > header > div.context-header > div.context-header__context-block > div > button > i')\n",
    "element.click()\n",
    "sleep(5)\n",
    "inputElement = driver.find_element(By.CSS_SELECTOR, \"#journey-update-modal_desc > div.journey-locator__search-container.journeyRegularSearch > div.journey-locator__header.shadow > div > div.journey__search-bar > input\")\n",
    "inputElement.send_keys('Paris')\n",
    "sleep(10)\n",
    "\n"
   ]
  },
  {
   "cell_type": "code",
   "execution_count": 4,
   "id": "d6b49c19",
   "metadata": {},
   "outputs": [
    {
     "name": "stdout",
     "output_type": "stream",
     "text": [
      "534\n"
     ]
    }
   ],
   "source": [
    "total_products = driver.find_element(By.CSS_SELECTOR, '#wrapper > div.site-breadcrumb__container > div.site-breadcrumb__wrapper > nav > span.site-breadcrumb__item.site-breadcrumb__item--last > span').text\n",
    "total_products = total_products.split()\n",
    "total_products = total_products[0]\n",
    "total_products = int(total_products)\n",
    "print(total_products)"
   ]
  },
  {
   "cell_type": "code",
   "execution_count": 5,
   "id": "721c1a15",
   "metadata": {
    "scrolled": true
   },
   "outputs": [
    {
     "name": "stdout",
     "output_type": "stream",
     "text": [
      "30\n",
      "MEO    Café moulu pur arabica bio\n"
     ]
    },
    {
     "ename": "IndexError",
     "evalue": "list index out of range",
     "output_type": "error",
     "traceback": [
      "\u001b[1;31m---------------------------------------------------------------------------\u001b[0m",
      "\u001b[1;31mIndexError\u001b[0m                                Traceback (most recent call last)",
      "\u001b[1;32m~\\AppData\\Local\\Temp/ipykernel_12760/2524735979.py\u001b[0m in \u001b[0;36mscroll_page\u001b[1;34m(retailer)\u001b[0m\n\u001b[0;32m     26\u001b[0m             \u001b[1;32mtry\u001b[0m\u001b[1;33m:\u001b[0m\u001b[1;33m\u001b[0m\u001b[1;33m\u001b[0m\u001b[0m\n\u001b[1;32m---> 27\u001b[1;33m                 \u001b[0mthe_price_id\u001b[0m \u001b[1;33m=\u001b[0m \u001b[0msoup\u001b[0m\u001b[1;33m.\u001b[0m\u001b[0mfind_all\u001b[0m\u001b[1;33m(\u001b[0m\u001b[0mattrs\u001b[0m\u001b[1;33m=\u001b[0m\u001b[1;33m{\u001b[0m\u001b[1;34m\"role\"\u001b[0m\u001b[1;33m:\u001b[0m \u001b[1;34m\"listitem\"\u001b[0m\u001b[1;33m}\u001b[0m\u001b[1;33m)\u001b[0m\u001b[1;33m[\u001b[0m\u001b[0mcounter\u001b[0m\u001b[1;33m]\u001b[0m\u001b[1;33m.\u001b[0m\u001b[0mfind_all\u001b[0m\u001b[1;33m(\u001b[0m\u001b[0mattrs\u001b[0m\u001b[1;33m=\u001b[0m\u001b[1;33m{\u001b[0m\u001b[1;34m\"class\"\u001b[0m\u001b[1;33m:\u001b[0m \u001b[1;34m\"product-price bolder text-dark-color\"\u001b[0m\u001b[1;33m}\u001b[0m\u001b[1;33m)\u001b[0m\u001b[1;33m[\u001b[0m\u001b[1;36m0\u001b[0m\u001b[1;33m]\u001b[0m\u001b[1;33m.\u001b[0m\u001b[0mtext\u001b[0m\u001b[1;33m\u001b[0m\u001b[1;33m\u001b[0m\u001b[0m\n\u001b[0m\u001b[0;32m     28\u001b[0m             \u001b[1;32mexcept\u001b[0m\u001b[1;33m:\u001b[0m\u001b[1;33m\u001b[0m\u001b[1;33m\u001b[0m\u001b[0m\n",
      "\u001b[1;31mIndexError\u001b[0m: list index out of range",
      "\nDuring handling of the above exception, another exception occurred:\n",
      "\u001b[1;31mIndexError\u001b[0m                                Traceback (most recent call last)",
      "\u001b[1;32m~\\AppData\\Local\\Temp/ipykernel_12760/2524735979.py\u001b[0m in \u001b[0;36m<module>\u001b[1;34m\u001b[0m\n\u001b[0;32m     59\u001b[0m \u001b[1;33m\u001b[0m\u001b[0m\n\u001b[0;32m     60\u001b[0m \u001b[1;33m\u001b[0m\u001b[0m\n\u001b[1;32m---> 61\u001b[1;33m \u001b[0mscroll_page\u001b[0m\u001b[1;33m(\u001b[0m\u001b[1;34m\"Auchan\"\u001b[0m\u001b[1;33m)\u001b[0m\u001b[1;33m\u001b[0m\u001b[1;33m\u001b[0m\u001b[0m\n\u001b[0m",
      "\u001b[1;32m~\\AppData\\Local\\Temp/ipykernel_12760/2524735979.py\u001b[0m in \u001b[0;36mscroll_page\u001b[1;34m(retailer)\u001b[0m\n\u001b[0;32m     27\u001b[0m                 \u001b[0mthe_price_id\u001b[0m \u001b[1;33m=\u001b[0m \u001b[0msoup\u001b[0m\u001b[1;33m.\u001b[0m\u001b[0mfind_all\u001b[0m\u001b[1;33m(\u001b[0m\u001b[0mattrs\u001b[0m\u001b[1;33m=\u001b[0m\u001b[1;33m{\u001b[0m\u001b[1;34m\"role\"\u001b[0m\u001b[1;33m:\u001b[0m \u001b[1;34m\"listitem\"\u001b[0m\u001b[1;33m}\u001b[0m\u001b[1;33m)\u001b[0m\u001b[1;33m[\u001b[0m\u001b[0mcounter\u001b[0m\u001b[1;33m]\u001b[0m\u001b[1;33m.\u001b[0m\u001b[0mfind_all\u001b[0m\u001b[1;33m(\u001b[0m\u001b[0mattrs\u001b[0m\u001b[1;33m=\u001b[0m\u001b[1;33m{\u001b[0m\u001b[1;34m\"class\"\u001b[0m\u001b[1;33m:\u001b[0m \u001b[1;34m\"product-price bolder text-dark-color\"\u001b[0m\u001b[1;33m}\u001b[0m\u001b[1;33m)\u001b[0m\u001b[1;33m[\u001b[0m\u001b[1;36m0\u001b[0m\u001b[1;33m]\u001b[0m\u001b[1;33m.\u001b[0m\u001b[0mtext\u001b[0m\u001b[1;33m\u001b[0m\u001b[1;33m\u001b[0m\u001b[0m\n\u001b[0;32m     28\u001b[0m             \u001b[1;32mexcept\u001b[0m\u001b[1;33m:\u001b[0m\u001b[1;33m\u001b[0m\u001b[1;33m\u001b[0m\u001b[0m\n\u001b[1;32m---> 29\u001b[1;33m                 \u001b[0mthe_price_id\u001b[0m \u001b[1;33m=\u001b[0m \u001b[0msoup\u001b[0m\u001b[1;33m.\u001b[0m\u001b[0mfind_all\u001b[0m\u001b[1;33m(\u001b[0m\u001b[0mattrs\u001b[0m\u001b[1;33m=\u001b[0m\u001b[1;33m{\u001b[0m\u001b[1;34m\"role\"\u001b[0m\u001b[1;33m:\u001b[0m \u001b[1;34m\"listitem\"\u001b[0m\u001b[1;33m}\u001b[0m\u001b[1;33m)\u001b[0m\u001b[1;33m[\u001b[0m\u001b[0mcounter\u001b[0m\u001b[1;33m]\u001b[0m\u001b[1;33m.\u001b[0m\u001b[0mfind_all\u001b[0m\u001b[1;33m(\u001b[0m\u001b[0mattrs\u001b[0m\u001b[1;33m=\u001b[0m\u001b[1;33m{\u001b[0m\u001b[1;34m\"class\"\u001b[0m\u001b[1;33m:\u001b[0m \u001b[1;34m\"product-price bolder red-txt\"\u001b[0m\u001b[1;33m}\u001b[0m\u001b[1;33m)\u001b[0m\u001b[1;33m[\u001b[0m\u001b[1;36m0\u001b[0m\u001b[1;33m]\u001b[0m\u001b[1;33m.\u001b[0m\u001b[0mtext\u001b[0m\u001b[1;33m\u001b[0m\u001b[1;33m\u001b[0m\u001b[0m\n\u001b[0m\u001b[0;32m     30\u001b[0m             \u001b[0mprint\u001b[0m\u001b[1;33m(\u001b[0m\u001b[0mthe_price_id\u001b[0m\u001b[1;33m)\u001b[0m\u001b[1;33m\u001b[0m\u001b[1;33m\u001b[0m\u001b[0m\n\u001b[0;32m     31\u001b[0m \u001b[1;33m\u001b[0m\u001b[0m\n",
      "\u001b[1;31mIndexError\u001b[0m: list index out of range"
     ]
    }
   ],
   "source": [
    "def scroll_page(retailer):    \n",
    "     \n",
    "    \n",
    "    res = driver.page_source.encode('utf-8')\n",
    "    soup = BeautifulSoup(res, \"html.parser\")\n",
    "    \n",
    "    \n",
    "    num_products_view_2 = 0\n",
    "    scroll_range = 0 \n",
    "    lengte = 0 \n",
    "    #create a scroller that scrolls the_range amount of times.     \n",
    "    for _ in range(20):\n",
    "        res = driver.page_source.encode('utf-8')\n",
    "        soup = BeautifulSoup(res, \"html.parser\")\n",
    "        \n",
    "        # total number of products in current view\n",
    "        num_products_view_1 = int(len(soup.find_all(attrs={\"role\": \"listitem\"})))\n",
    "        print(num_products_view_1)\n",
    "        \n",
    "        #create attributes the_name_id, the_price_id, the_brand_id and the_volume_id\n",
    "        for counter in range(num_products_view_2, num_products_view_1):\n",
    "            the_name_id = soup.find_all(attrs={\"role\": \"listitem\"})[counter].find_all(attrs={\"itemprop\": \"name description\"})[0].text\n",
    "            the_name_id = the_name_id.replace(\"\\n\", \"\")\n",
    "            print(the_name_id)\n",
    "            \n",
    "            try:\n",
    "                the_price_id = soup.find_all(attrs={\"role\": \"listitem\"})[counter].find_all(attrs={\"class\": \"product-price bolder text-dark-color\"})[0].text\n",
    "            except: \n",
    "                the_price_id = soup.find_all(attrs={\"role\": \"listitem\"})[counter].find_all(attrs={\"class\": \"product-price bolder red-txt\"})[0].text\n",
    "            print(the_price_id)\n",
    "           \n",
    "            the_brand_id = soup.find_all(attrs={\"role\": \"listitem\"})[counter].find_all(attrs={\"itemprop\": \"brand\"})[0].text\n",
    "            print(the_brand_id)\n",
    "            try: \n",
    "                the_volume_id = soup.find_all(attrs={\"role\": \"listitem\"})[counter].find_all(attrs={\"class\": \"product-attribute\"})[0].text + \" \" + soup.find_all(attrs={\"role\": \"listitem\"})[counter].find_all(attrs={\"class\": \"product-attribute\"})[1].text\n",
    "            except:\n",
    "                try:\n",
    "                    the_volume_id = soup.find_all(attrs={\"role\": \"listitem\"})[counter].find_all(attrs={\"class\": \"product-attribute\"})[0].text\n",
    "                except: \n",
    "                    the_volume_id = \"no volume available\"\n",
    "            print(the_volume_id)\n",
    "\n",
    "            filename = \"Auchan\"\n",
    "            fullpath = \"../Output/\" + str(filename) + \".csv\"\n",
    "            #write variables per product into csv file \n",
    "            with open(fullpath, mode='a', newline='', encoding='utf-8') as csv_file:\n",
    "                writer = csv.writer(csv_file)\n",
    "                writer.writerow([retailer, the_brand_id, the_volume_id,the_name_id, the_price_id])\n",
    "            lengte +=1\n",
    "            \n",
    "            scroll_range += 100\n",
    "            driver.execute_script('window.scrollTo(0, ' + str(scroll_range) + ')')\n",
    "        \n",
    "        if int(lengte) >= int(total_products): \n",
    "            break\n",
    "        num_products_view_2 = int(len(soup.find_all(attrs={\"role\": \"listitem\"})))\n",
    "        print(num_products_view_2)\n",
    "        \n",
    "        \n",
    "\n",
    "scroll_page(\"Auchan\")"
   ]
  },
  {
   "cell_type": "code",
   "execution_count": null,
   "id": "ab7667ed",
   "metadata": {},
   "outputs": [],
   "source": []
  },
  {
   "cell_type": "code",
   "execution_count": null,
   "id": "e5ae4a98",
   "metadata": {},
   "outputs": [],
   "source": []
  }
 ],
 "metadata": {
  "kernelspec": {
   "display_name": "Python 3 (ipykernel)",
   "language": "python",
   "name": "python3"
  },
  "language_info": {
   "codemirror_mode": {
    "name": "ipython",
    "version": 3
   },
   "file_extension": ".py",
   "mimetype": "text/x-python",
   "name": "python",
   "nbconvert_exporter": "python",
   "pygments_lexer": "ipython3",
   "version": "3.9.7"
  }
 },
 "nbformat": 4,
 "nbformat_minor": 5
}
