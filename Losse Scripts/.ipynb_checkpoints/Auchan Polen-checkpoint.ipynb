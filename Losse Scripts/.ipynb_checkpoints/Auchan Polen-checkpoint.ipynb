{
 "cells": [
  {
   "cell_type": "code",
   "execution_count": 1,
   "id": "51012423",
   "metadata": {},
   "outputs": [
    {
     "name": "stderr",
     "output_type": "stream",
     "text": [
      "\n",
      "\n",
      "====== WebDriver manager ======\n",
      "Current google-chrome version is 102.0.5005\n",
      "Get LATEST chromedriver version for 102.0.5005 google-chrome\n",
      "Driver [C:\\Users\\verbr\\.wdm\\drivers\\chromedriver\\win32\\102.0.5005.61\\chromedriver.exe] found in cache\n",
      "C:\\Users\\verbr\\AppData\\Local\\Temp/ipykernel_17608/3949359056.py:7: DeprecationWarning: executable_path has been deprecated, please pass in a Service object\n",
      "  driver = webdriver.Chrome(ChromeDriverManager().install())\n"
     ]
    }
   ],
   "source": [
    "#import relevant packages used in this script\n",
    "\n",
    "from selenium import webdriver\n",
    "from selenium.webdriver.chrome.options import Options\n",
    "from webdriver_manager.chrome import ChromeDriverManager\n",
    "\n",
    "driver = webdriver.Chrome(ChromeDriverManager().install())\n",
    "\n",
    "from selenium.webdriver import ActionChains\n",
    "from selenium.webdriver.common.by import By\n",
    "from datetime import datetime\n",
    "\n",
    "import pandas as pd\n",
    "import statistics\n",
    "import csv\n",
    "from time import sleep\n",
    "import math"
   ]
  },
  {
   "cell_type": "code",
   "execution_count": 2,
   "id": "3db92ea0",
   "metadata": {},
   "outputs": [],
   "source": [
    "from bs4 import BeautifulSoup\n",
    "res = driver.page_source.encode('utf-8')\n",
    "soup = BeautifulSoup(res, \"html.parser\")"
   ]
  },
  {
   "cell_type": "code",
   "execution_count": 3,
   "id": "de164751",
   "metadata": {},
   "outputs": [],
   "source": [
    "driver.get(\"https://zakupy.auchan.pl/shop/naturalnie/kawa-herbata-przekaski/kawa-herbata.c-17525?qq=%7B%22filterParams%22%3A%7B%22subcategory%22%3A%5B%2217597%22%5D%7D%7D\")\n",
    "driver.maximize_window()\n",
    "sleep(5)\n",
    "element = driver.find_element(By.CSS_SELECTOR,'#onetrust-accept-btn-handler')\n",
    "element.click()\n",
    "sleep(2)\n",
    "element = driver.find_element(By.CSS_SELECTOR, '#__layout > div > div.vue-portal-target > div > div > div > button')\n",
    "element.click()\n",
    "sleep(2)"
   ]
  },
  {
   "cell_type": "code",
   "execution_count": 4,
   "id": "abc58295",
   "metadata": {},
   "outputs": [
    {
     "name": "stdout",
     "output_type": "stream",
     "text": [
      "28\n"
     ]
    }
   ],
   "source": [
    "total_products = driver.find_element(By.CSS_SELECTOR,'#container > div._2UFX > div > div > div > div._33_Y.h6Ec._2pgL._165A._3u1q > div._2ulq._1hug._3xdV._3OQ8._3n7R').text\n",
    "total_products = total_products.split()\n",
    "total_products = total_products[-1]\n",
    "total_products = int(total_products)\n",
    "print(total_products)"
   ]
  },
  {
   "cell_type": "code",
   "execution_count": 5,
   "id": "56165078",
   "metadata": {},
   "outputs": [
    {
     "name": "stdout",
     "output_type": "stream",
     "text": [
      "15\n",
      "Coffee Promotion - Cykoria Classic Wysokobłonnikowy napój instant\n",
      "Inka - Rozpuszczalna kawa zbożowa\n",
      "Inka - Rozpuszczalna kawa zbożowa\n",
      "Inka - Bio Kawa zbożowa cykoria \n",
      "Inka - Bio Kawa zbożowa z figami \n",
      "Inka - Bio Kawa zbożowa orkiszowa  \n",
      "Auchan - Kawa palona, mielona. Pakowana w atmosferze ochronnej. Intensywność 8\n",
      "Auchan - BIO Kawa palona mielona\n",
      "Gimoka - Samba Cafe kawa mielona Bio\n",
      "Auchan - Kawa palona ziarnista\n",
      "Cafe Sati - Bio Kawa Moka Sidamo Etiopia mielona\n",
      "Pewni Dobrego - Organic kawa ziarnista 100% Arabica Crema\n",
      "Pewni Dobrego - Organic kawa ziarnista 100% Arabica Espresso\n",
      "Sati - BIO kawa bezkofeinowa mielona\n",
      "Woseba - BIO kawa ziarnista palona Arabica\n",
      "15\n",
      "28\n",
      "Taheebo Esencja Natury - Eko kawa Arabica Peru\n",
      "Cafe Mon Amour - Bio Kawa ziarnista 100% Arabica Honduras\n",
      "Cafe Mon Amour - Bio Kawa ziarnista 100% Arabica Peru\n",
      "Coffee Cake - Kawa ziarnista 100% Arabica Meksykański Jaguar\n",
      "Coffee Cake - Kawa ziarnista 100% Arabica Peruwiański Flaming\n",
      "Marila - BIO kawa arabica ziarnista\n",
      "Marila - BIO kawa ziarnista arabica z Hondurasu\n",
      "Coffee Cake - Kawa ziarnista 100% Arabica Brazylijska Sowa\n",
      "Coffee Cake - Kawa ziarnista 100% Arabica Etiopski Lis\n",
      "Coffee Cake - Kawa ziarnista 100% Arabica Indonezyjska Żaba\n",
      "Cafe Mon Amour - Bio Kawa ziarnista 100% Arabica Etiopia\n",
      "Gimoka - BIO kawa ziarnista \n",
      "Woseba - BIO kawa ziarnista palona Arabica\n",
      "28\n"
     ]
    }
   ],
   "source": [
    "def scroll_page(retailer):    \n",
    "       \n",
    "    sleep(1)\n",
    "    \n",
    "    res = driver.page_source.encode('utf-8')\n",
    "    soup = BeautifulSoup(res, \"html.parser\")    \n",
    "    num_products_view_2 = 0\n",
    "    scroll_range = 0 \n",
    "    number = 0 \n",
    "    \n",
    "       \n",
    "    for _ in range(200):\n",
    "        res = driver.page_source.encode('utf-8')\n",
    "        soup = BeautifulSoup(res, \"html.parser\")\n",
    "        \n",
    "        # total number of wines in current view\n",
    "        num_products_view_1 = int(len(soup.find_all(attrs={\"class\": \"_1-xY _7RZK\"})))\n",
    "        print(num_products_view_1)\n",
    "        \n",
    "        #create attributes the_name_id, the_price_id, the_brand_id and the_volume_id\n",
    "        if num_products_view_1 > num_products_view_2:\n",
    "            for counter in range(num_products_view_2, num_products_view_1):\n",
    "                the_name_id = soup.find_all(attrs={\"class\": \"_1-xY _7RZK\"})[counter].find_all(\"a\")[2].text\n",
    "                print(the_name_id)\n",
    "                the_price_id = soup.find_all(attrs={\"class\": \"_1-xY _7RZK\"})[counter].find_all(attrs={\"class\": \"_3vje Czu4\"})[0].text\n",
    "                the_price_id = the_price_id.replace(\"\\n\", \"\")\n",
    "                the_price_id = the_price_id.replace(\"  \", \"\")\n",
    "                the_brand_id = the_name_id.split()\n",
    "                the_brand_id = the_brand_id[0] + \" \" + the_brand_id[1]\n",
    "                the_volume_id = soup.find_all(attrs={\"class\": \"_1-xY _7RZK\"})[counter].find_all(attrs={\"class\": \"_2nPs Czu4\"})[0].text           \n",
    "                filename = \"Auchan Polen\"\n",
    "                fullpath = \"../Output/\" + str(filename) + \".csv\"\n",
    "                \n",
    "                #write variables per product into csv file \n",
    "                with open(fullpath, mode='a', newline='', encoding='utf-8') as csv_file:\n",
    "                    writer = csv.writer(csv_file)\n",
    "                    writer.writerow([retailer, the_brand_id, the_volume_id,the_name_id, the_price_id])\n",
    "                \n",
    "                scroll_range += 200\n",
    "                driver.execute_script('window.scrollTo(0, ' + str(scroll_range) + ')')\n",
    "                sleep(0.5)\n",
    "                number +=1 \n",
    "        \n",
    "        num_products_view_2 = int(len(soup.find_all(attrs={\"class\": \"_1-xY _7RZK\"})))\n",
    "        print(num_products_view_2)\n",
    "        \n",
    "        if number >= total_products:\n",
    "            break \n",
    "scroll_page(\"Auchan Polen\")"
   ]
  },
  {
   "cell_type": "code",
   "execution_count": null,
   "id": "38002218",
   "metadata": {},
   "outputs": [],
   "source": []
  }
 ],
 "metadata": {
  "kernelspec": {
   "display_name": "Python 3 (ipykernel)",
   "language": "python",
   "name": "python3"
  },
  "language_info": {
   "codemirror_mode": {
    "name": "ipython",
    "version": 3
   },
   "file_extension": ".py",
   "mimetype": "text/x-python",
   "name": "python",
   "nbconvert_exporter": "python",
   "pygments_lexer": "ipython3",
   "version": "3.9.7"
  }
 },
 "nbformat": 4,
 "nbformat_minor": 5
}
