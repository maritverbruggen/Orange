{
 "cells": [
  {
   "cell_type": "code",
   "execution_count": 1,
   "id": "d784af2a",
   "metadata": {},
   "outputs": [
    {
     "name": "stderr",
     "output_type": "stream",
     "text": [
      "\n",
      "\n",
      "====== WebDriver manager ======\n",
      "\n",
      "\n",
      "====== WebDriver manager ======\n",
      "Current google-chrome version is 102.0.5005\n",
      "Get LATEST chromedriver version for 102.0.5005 google-chrome\n",
      "Current google-chrome version is 102.0.5005\n",
      "Get LATEST chromedriver version for 102.0.5005 google-chrome\n",
      "Driver [C:\\Users\\verbr\\.wdm\\drivers\\chromedriver\\win32\\102.0.5005.61\\chromedriver.exe] found in cache\n",
      "Driver [C:\\Users\\verbr\\.wdm\\drivers\\chromedriver\\win32\\102.0.5005.61\\chromedriver.exe] found in cache\n",
      "C:\\Users\\verbr\\AppData\\Local\\Temp/ipykernel_20532/1424107507.py:5: DeprecationWarning: executable_path has been deprecated, please pass in a Service object\n",
      "  driver = webdriver.Chrome(ChromeDriverManager().install())\n",
      "C:\\Users\\verbr\\AppData\\Local\\Temp/ipykernel_20532/1424107507.py:5: DeprecationWarning: executable_path has been deprecated, please pass in a Service object\n",
      "  driver = webdriver.Chrome(ChromeDriverManager().install())\n"
     ]
    }
   ],
   "source": [
    "from selenium import webdriver\n",
    "from selenium.webdriver.chrome.options import Options\n",
    "from webdriver_manager.chrome import ChromeDriverManager\n",
    "\n",
    "driver = webdriver.Chrome(ChromeDriverManager().install())\n",
    "\n",
    "from selenium.webdriver import ActionChains\n",
    "from selenium.webdriver.common.by import By\n",
    "from datetime import datetime\n",
    "from selenium.webdriver.common.keys import Keys\n",
    "\n",
    "import pandas as pd\n",
    "import statistics\n",
    "import csv\n",
    "from time import sleep\n",
    "import math"
   ]
  },
  {
   "cell_type": "code",
   "execution_count": 2,
   "id": "b4ff5abb",
   "metadata": {},
   "outputs": [],
   "source": [
    "from bs4 import BeautifulSoup\n",
    "res = driver.page_source.encode('utf-8')\n",
    "soup = BeautifulSoup(res, \"html.parser\")"
   ]
  },
  {
   "cell_type": "code",
   "execution_count": 3,
   "id": "be3aa1bc",
   "metadata": {},
   "outputs": [],
   "source": [
    "driver.get('https://www.l-organic.com/product-category/drinks/tea-coffee/')\n",
    "driver.maximize_window()\n",
    "sleep(3)"
   ]
  },
  {
   "cell_type": "code",
   "execution_count": 4,
   "id": "ffceb16c",
   "metadata": {},
   "outputs": [],
   "source": [
    "element = driver.find_element(By.CSS_SELECTOR, 'body > div.cc-window.cc-banner.cc-type-info.cc-theme-block.cc-bottom.cc-color-override-1827372716 > div')\n",
    "element.click()\n",
    "sleep(2) \n"
   ]
  },
  {
   "cell_type": "code",
   "execution_count": 5,
   "id": "69c8e853",
   "metadata": {},
   "outputs": [
    {
     "name": "stdout",
     "output_type": "stream",
     "text": [
      "biona biomalt – grain coffee instant organic 100 g\n",
      "cafe direct fairtrade roast & ground organic smooth roast 227g\n",
      "biona biomalt – grain coffee instant organic 100 g\n",
      "cafe direct fairtrade roast & ground organic smooth roast 227g\n",
      "cafe direct fairtrade whole bean machu picchu organic 227g\n",
      "cafe direct freeze dried decaf coffee organic 100g\n",
      "cafe direct fairtrade whole bean machu picchu organic 227g\n",
      "cafe direct freeze dried decaf coffee organic 100g\n",
      "cafe direct organic honduras beans coffee 200g\n",
      "cafe direct organic machu picchu freeze dried coffee 100g\n",
      "cafe direct organic honduras beans coffee 200g\n",
      "cafe direct organic machu picchu freeze dried coffee 100g\n",
      "cafe direct organic peru beans coffee 200g\n",
      "cafe direct organic roast & ground honduras 200g\n",
      "cafe direct organic peru beans coffee 200g\n",
      "cafe direct organic roast & ground honduras 200g\n",
      "cafe direct organic roast & ground mayan gold  227g\n",
      "cafe direct organic roast & ground peru coffee 200g\n",
      "cafe direct organic roast & ground mayan gold  227g\n",
      "cafe direct organic roast & ground peru coffee 200g\n",
      "cafe direct organic roast & ground roasters choice coffee 200g\n",
      "cafe direct organic roasters choice beans coffee 200g\n",
      "cafe direct organic roast & ground roasters choice coffee 200g\n",
      "cafe direct organic roasters choice beans coffee 200g\n",
      "cafe direct organic san cristobal hot chocolate 250g\n",
      "cafe direct organic smooth roast freeze dried coffee 100g\n",
      "cafe direct organic san cristobal hot chocolate 250g\n",
      "cafe direct organic smooth roast freeze dried coffee 100g\n",
      "cafe direct organic smooth roast instant coffee sticks 1.5g\n",
      "clearspring kukicha loose tea – organic 125g\n",
      "cafe direct organic smooth roast instant coffee sticks 1.5g\n",
      "clearspring kukicha loose tea – organic 125g\n",
      "clearspring matcha powder ceremonial grade30g\n",
      "clearspring organic japanese matcha sencha, green tea – 20 teabags\n",
      "clearspring matcha powder ceremonial grade30g\n",
      "clearspring organic japanese matcha sencha, green tea – 20 teabags\n",
      "eleven o’clock organic rooibos tea 40 bags\n",
      "fairtrade freeze dried decaf coffee organic 500g tin\n",
      "eleven o’clock organic rooibos tea 40 bags\n",
      "fairtrade freeze dried decaf coffee organic 500g tin\n",
      "fairtrade organic whole bean espresso blend 227g\n",
      "fairtrade roast & ground machu picchu organic 227g0\n",
      "fairtrade organic whole bean espresso blend 227g\n",
      "fairtrade roast & ground machu picchu organic 227g0\n",
      "hampstead organic camomile flowers 22g\n",
      "hampstead organic darjeeling tea 20 bags\n",
      "hampstead organic camomile flowers 22g\n",
      "hampstead organic darjeeling tea 20 bags\n",
      "hampstead organic demeter earl grey leaf tea 20 bags\n",
      "hampstead organic demeter fennel & liquorice tea 20 bags\n",
      "hampstead organic demeter earl grey leaf tea 20 bags\n",
      "hampstead organic demeter fennel & liquorice tea 20 bags\n",
      "hampstead organic demeter matcha green leaf tea 38g\n",
      "hampstead organic dreamy jasmine green tea bags\n",
      "hampstead organic demeter matcha green leaf tea 38g\n",
      "hampstead organic dreamy jasmine green tea bags\n",
      "hampstead organic earl grey tea 20 bags\n",
      "hampstead organic energy spiced chai black tea 20 bags\n",
      "hampstead organic earl grey tea 20 bags\n",
      "hampstead organic energy spiced chai black tea 20 bags\n",
      "hampstead organic english breakfast leaf tea 100g\n",
      "hampstead organic english breakfast leaf tea 38g\n",
      "hampstead organic english breakfast leaf tea 100g\n",
      "hampstead organic english breakfast leaf tea 38g\n"
     ]
    },
    {
     "ename": "NoSuchElementException",
     "evalue": "Message: no such element: Unable to locate element: {\"method\":\"css selector\",\"selector\":\".next page-numbers\"}\n  (Session info: chrome=102.0.5005.115)\nStacktrace:\nBacktrace:\n\tOrdinal0 [0x00CFD953+2414931]\n\tOrdinal0 [0x00C8F5E1+1963489]\n\tOrdinal0 [0x00B7C6B8+837304]\n\tOrdinal0 [0x00BA9500+1021184]\n\tOrdinal0 [0x00BA979B+1021851]\n\tOrdinal0 [0x00BD6502+1205506]\n\tOrdinal0 [0x00BC44E4+1131748]\n\tOrdinal0 [0x00BD4812+1198098]\n\tOrdinal0 [0x00BC42B6+1131190]\n\tOrdinal0 [0x00B9E860+976992]\n\tOrdinal0 [0x00B9F756+980822]\n\tGetHandleVerifier [0x00F6CC62+2510274]\n\tGetHandleVerifier [0x00F5F760+2455744]\n\tGetHandleVerifier [0x00D8EABA+551962]\n\tGetHandleVerifier [0x00D8D916+547446]\n\tOrdinal0 [0x00C95F3B+1990459]\n\tOrdinal0 [0x00C9A898+2009240]\n\tOrdinal0 [0x00C9A985+2009477]\n\tOrdinal0 [0x00CA3AD1+2046673]\n\tBaseThreadInitThunk [0x763F6739+25]\n\tRtlGetFullPathName_UEx [0x76FC8FEF+1215]\n\tRtlGetFullPathName_UEx [0x76FC8FBD+1165]\n",
     "output_type": "error",
     "traceback": [
      "\u001b[1;31m---------------------------------------------------------------------------\u001b[0m",
      "\u001b[1;31mNoSuchElementException\u001b[0m                    Traceback (most recent call last)",
      "\u001b[1;32m~\\AppData\\Local\\Temp/ipykernel_20532/659898311.py\u001b[0m in \u001b[0;36m<module>\u001b[1;34m\u001b[0m\n\u001b[0;32m     41\u001b[0m \u001b[1;33m\u001b[0m\u001b[0m\n\u001b[0;32m     42\u001b[0m \u001b[1;33m\u001b[0m\u001b[0m\n\u001b[1;32m---> 43\u001b[1;33m \u001b[0mscroll_page\u001b[0m\u001b[1;33m(\u001b[0m\u001b[1;34m\"Lorganic\"\u001b[0m\u001b[1;33m)\u001b[0m\u001b[1;33m\u001b[0m\u001b[1;33m\u001b[0m\u001b[0m\n\u001b[0m",
      "\u001b[1;32m~\\AppData\\Local\\Temp/ipykernel_20532/659898311.py\u001b[0m in \u001b[0;36mscroll_page\u001b[1;34m(retailer)\u001b[0m\n\u001b[0;32m     37\u001b[0m             \u001b[0msleep\u001b[0m\u001b[1;33m(\u001b[0m\u001b[1;36m0.1\u001b[0m\u001b[1;33m)\u001b[0m\u001b[1;33m\u001b[0m\u001b[1;33m\u001b[0m\u001b[0m\n\u001b[0;32m     38\u001b[0m \u001b[1;33m\u001b[0m\u001b[0m\n\u001b[1;32m---> 39\u001b[1;33m         \u001b[0melement\u001b[0m \u001b[1;33m=\u001b[0m \u001b[0mdriver\u001b[0m\u001b[1;33m.\u001b[0m\u001b[0mfind_element\u001b[0m\u001b[1;33m(\u001b[0m\u001b[0mBy\u001b[0m\u001b[1;33m.\u001b[0m\u001b[0mCLASS_NAME\u001b[0m\u001b[1;33m,\u001b[0m\u001b[1;34m'next page-numbers'\u001b[0m\u001b[1;33m)\u001b[0m\u001b[1;33m\u001b[0m\u001b[1;33m\u001b[0m\u001b[0m\n\u001b[0m\u001b[0;32m     40\u001b[0m         \u001b[0melement\u001b[0m\u001b[1;33m.\u001b[0m\u001b[0mclick\u001b[0m\u001b[1;33m(\u001b[0m\u001b[1;33m)\u001b[0m\u001b[1;33m\u001b[0m\u001b[1;33m\u001b[0m\u001b[0m\n\u001b[0;32m     41\u001b[0m \u001b[1;33m\u001b[0m\u001b[0m\n",
      "\u001b[1;32m~\\anaconda3\\lib\\site-packages\\selenium\\webdriver\\remote\\webdriver.py\u001b[0m in \u001b[0;36mfind_element\u001b[1;34m(self, by, value)\u001b[0m\n\u001b[0;32m   1242\u001b[0m             \u001b[0mvalue\u001b[0m \u001b[1;33m=\u001b[0m \u001b[1;34m'[name=\"%s\"]'\u001b[0m \u001b[1;33m%\u001b[0m \u001b[0mvalue\u001b[0m\u001b[1;33m\u001b[0m\u001b[1;33m\u001b[0m\u001b[0m\n\u001b[0;32m   1243\u001b[0m \u001b[1;33m\u001b[0m\u001b[0m\n\u001b[1;32m-> 1244\u001b[1;33m         return self.execute(Command.FIND_ELEMENT, {\n\u001b[0m\u001b[0;32m   1245\u001b[0m             \u001b[1;34m'using'\u001b[0m\u001b[1;33m:\u001b[0m \u001b[0mby\u001b[0m\u001b[1;33m,\u001b[0m\u001b[1;33m\u001b[0m\u001b[1;33m\u001b[0m\u001b[0m\n\u001b[0;32m   1246\u001b[0m             'value': value})['value']\n",
      "\u001b[1;32m~\\anaconda3\\lib\\site-packages\\selenium\\webdriver\\remote\\webdriver.py\u001b[0m in \u001b[0;36mexecute\u001b[1;34m(self, driver_command, params)\u001b[0m\n\u001b[0;32m    422\u001b[0m         \u001b[0mresponse\u001b[0m \u001b[1;33m=\u001b[0m \u001b[0mself\u001b[0m\u001b[1;33m.\u001b[0m\u001b[0mcommand_executor\u001b[0m\u001b[1;33m.\u001b[0m\u001b[0mexecute\u001b[0m\u001b[1;33m(\u001b[0m\u001b[0mdriver_command\u001b[0m\u001b[1;33m,\u001b[0m \u001b[0mparams\u001b[0m\u001b[1;33m)\u001b[0m\u001b[1;33m\u001b[0m\u001b[1;33m\u001b[0m\u001b[0m\n\u001b[0;32m    423\u001b[0m         \u001b[1;32mif\u001b[0m \u001b[0mresponse\u001b[0m\u001b[1;33m:\u001b[0m\u001b[1;33m\u001b[0m\u001b[1;33m\u001b[0m\u001b[0m\n\u001b[1;32m--> 424\u001b[1;33m             \u001b[0mself\u001b[0m\u001b[1;33m.\u001b[0m\u001b[0merror_handler\u001b[0m\u001b[1;33m.\u001b[0m\u001b[0mcheck_response\u001b[0m\u001b[1;33m(\u001b[0m\u001b[0mresponse\u001b[0m\u001b[1;33m)\u001b[0m\u001b[1;33m\u001b[0m\u001b[1;33m\u001b[0m\u001b[0m\n\u001b[0m\u001b[0;32m    425\u001b[0m             response['value'] = self._unwrap_value(\n\u001b[0;32m    426\u001b[0m                 response.get('value', None))\n",
      "\u001b[1;32m~\\anaconda3\\lib\\site-packages\\selenium\\webdriver\\remote\\errorhandler.py\u001b[0m in \u001b[0;36mcheck_response\u001b[1;34m(self, response)\u001b[0m\n\u001b[0;32m    245\u001b[0m                 \u001b[0malert_text\u001b[0m \u001b[1;33m=\u001b[0m \u001b[0mvalue\u001b[0m\u001b[1;33m[\u001b[0m\u001b[1;34m'alert'\u001b[0m\u001b[1;33m]\u001b[0m\u001b[1;33m.\u001b[0m\u001b[0mget\u001b[0m\u001b[1;33m(\u001b[0m\u001b[1;34m'text'\u001b[0m\u001b[1;33m)\u001b[0m\u001b[1;33m\u001b[0m\u001b[1;33m\u001b[0m\u001b[0m\n\u001b[0;32m    246\u001b[0m             \u001b[1;32mraise\u001b[0m \u001b[0mexception_class\u001b[0m\u001b[1;33m(\u001b[0m\u001b[0mmessage\u001b[0m\u001b[1;33m,\u001b[0m \u001b[0mscreen\u001b[0m\u001b[1;33m,\u001b[0m \u001b[0mstacktrace\u001b[0m\u001b[1;33m,\u001b[0m \u001b[0malert_text\u001b[0m\u001b[1;33m)\u001b[0m  \u001b[1;31m# type: ignore[call-arg]  # mypy is not smart enough here\u001b[0m\u001b[1;33m\u001b[0m\u001b[1;33m\u001b[0m\u001b[0m\n\u001b[1;32m--> 247\u001b[1;33m         \u001b[1;32mraise\u001b[0m \u001b[0mexception_class\u001b[0m\u001b[1;33m(\u001b[0m\u001b[0mmessage\u001b[0m\u001b[1;33m,\u001b[0m \u001b[0mscreen\u001b[0m\u001b[1;33m,\u001b[0m \u001b[0mstacktrace\u001b[0m\u001b[1;33m)\u001b[0m\u001b[1;33m\u001b[0m\u001b[1;33m\u001b[0m\u001b[0m\n\u001b[0m\u001b[0;32m    248\u001b[0m \u001b[1;33m\u001b[0m\u001b[0m\n\u001b[0;32m    249\u001b[0m     \u001b[1;32mdef\u001b[0m \u001b[0m_value_or_default\u001b[0m\u001b[1;33m(\u001b[0m\u001b[0mself\u001b[0m\u001b[1;33m,\u001b[0m \u001b[0mobj\u001b[0m\u001b[1;33m:\u001b[0m \u001b[0mMapping\u001b[0m\u001b[1;33m[\u001b[0m\u001b[0m_KT\u001b[0m\u001b[1;33m,\u001b[0m \u001b[0m_VT\u001b[0m\u001b[1;33m]\u001b[0m\u001b[1;33m,\u001b[0m \u001b[0mkey\u001b[0m\u001b[1;33m:\u001b[0m \u001b[0m_KT\u001b[0m\u001b[1;33m,\u001b[0m \u001b[0mdefault\u001b[0m\u001b[1;33m:\u001b[0m \u001b[0m_VT\u001b[0m\u001b[1;33m)\u001b[0m \u001b[1;33m->\u001b[0m \u001b[0m_VT\u001b[0m\u001b[1;33m:\u001b[0m\u001b[1;33m\u001b[0m\u001b[1;33m\u001b[0m\u001b[0m\n",
      "\u001b[1;31mNoSuchElementException\u001b[0m: Message: no such element: Unable to locate element: {\"method\":\"css selector\",\"selector\":\".next page-numbers\"}\n  (Session info: chrome=102.0.5005.115)\nStacktrace:\nBacktrace:\n\tOrdinal0 [0x00CFD953+2414931]\n\tOrdinal0 [0x00C8F5E1+1963489]\n\tOrdinal0 [0x00B7C6B8+837304]\n\tOrdinal0 [0x00BA9500+1021184]\n\tOrdinal0 [0x00BA979B+1021851]\n\tOrdinal0 [0x00BD6502+1205506]\n\tOrdinal0 [0x00BC44E4+1131748]\n\tOrdinal0 [0x00BD4812+1198098]\n\tOrdinal0 [0x00BC42B6+1131190]\n\tOrdinal0 [0x00B9E860+976992]\n\tOrdinal0 [0x00B9F756+980822]\n\tGetHandleVerifier [0x00F6CC62+2510274]\n\tGetHandleVerifier [0x00F5F760+2455744]\n\tGetHandleVerifier [0x00D8EABA+551962]\n\tGetHandleVerifier [0x00D8D916+547446]\n\tOrdinal0 [0x00C95F3B+1990459]\n\tOrdinal0 [0x00C9A898+2009240]\n\tOrdinal0 [0x00C9A985+2009477]\n\tOrdinal0 [0x00CA3AD1+2046673]\n\tBaseThreadInitThunk [0x763F6739+25]\n\tRtlGetFullPathName_UEx [0x76FC8FEF+1215]\n\tRtlGetFullPathName_UEx [0x76FC8FBD+1165]\n"
     ]
    },
    {
     "ename": "NoSuchElementException",
     "evalue": "Message: no such element: Unable to locate element: {\"method\":\"css selector\",\"selector\":\".next page-numbers\"}\n  (Session info: chrome=102.0.5005.115)\nStacktrace:\nBacktrace:\n\tOrdinal0 [0x00CFD953+2414931]\n\tOrdinal0 [0x00C8F5E1+1963489]\n\tOrdinal0 [0x00B7C6B8+837304]\n\tOrdinal0 [0x00BA9500+1021184]\n\tOrdinal0 [0x00BA979B+1021851]\n\tOrdinal0 [0x00BD6502+1205506]\n\tOrdinal0 [0x00BC44E4+1131748]\n\tOrdinal0 [0x00BD4812+1198098]\n\tOrdinal0 [0x00BC42B6+1131190]\n\tOrdinal0 [0x00B9E860+976992]\n\tOrdinal0 [0x00B9F756+980822]\n\tGetHandleVerifier [0x00F6CC62+2510274]\n\tGetHandleVerifier [0x00F5F760+2455744]\n\tGetHandleVerifier [0x00D8EABA+551962]\n\tGetHandleVerifier [0x00D8D916+547446]\n\tOrdinal0 [0x00C95F3B+1990459]\n\tOrdinal0 [0x00C9A898+2009240]\n\tOrdinal0 [0x00C9A985+2009477]\n\tOrdinal0 [0x00CA3AD1+2046673]\n\tBaseThreadInitThunk [0x763F6739+25]\n\tRtlGetFullPathName_UEx [0x76FC8FEF+1215]\n\tRtlGetFullPathName_UEx [0x76FC8FBD+1165]\n",
     "output_type": "error",
     "traceback": [
      "\u001b[1;31m---------------------------------------------------------------------------\u001b[0m",
      "\u001b[1;31mNoSuchElementException\u001b[0m                    Traceback (most recent call last)",
      "\u001b[1;32m~\\AppData\\Local\\Temp/ipykernel_20532/659898311.py\u001b[0m in \u001b[0;36m<module>\u001b[1;34m\u001b[0m\n\u001b[0;32m     41\u001b[0m \u001b[1;33m\u001b[0m\u001b[0m\n\u001b[0;32m     42\u001b[0m \u001b[1;33m\u001b[0m\u001b[0m\n\u001b[1;32m---> 43\u001b[1;33m \u001b[0mscroll_page\u001b[0m\u001b[1;33m(\u001b[0m\u001b[1;34m\"Lorganic\"\u001b[0m\u001b[1;33m)\u001b[0m\u001b[1;33m\u001b[0m\u001b[1;33m\u001b[0m\u001b[0m\n\u001b[0m",
      "\u001b[1;32m~\\AppData\\Local\\Temp/ipykernel_20532/659898311.py\u001b[0m in \u001b[0;36mscroll_page\u001b[1;34m(retailer)\u001b[0m\n\u001b[0;32m     37\u001b[0m             \u001b[0msleep\u001b[0m\u001b[1;33m(\u001b[0m\u001b[1;36m0.1\u001b[0m\u001b[1;33m)\u001b[0m\u001b[1;33m\u001b[0m\u001b[1;33m\u001b[0m\u001b[0m\n\u001b[0;32m     38\u001b[0m \u001b[1;33m\u001b[0m\u001b[0m\n\u001b[1;32m---> 39\u001b[1;33m         \u001b[0melement\u001b[0m \u001b[1;33m=\u001b[0m \u001b[0mdriver\u001b[0m\u001b[1;33m.\u001b[0m\u001b[0mfind_element\u001b[0m\u001b[1;33m(\u001b[0m\u001b[0mBy\u001b[0m\u001b[1;33m.\u001b[0m\u001b[0mCLASS_NAME\u001b[0m\u001b[1;33m,\u001b[0m\u001b[1;34m'next page-numbers'\u001b[0m\u001b[1;33m)\u001b[0m\u001b[1;33m\u001b[0m\u001b[1;33m\u001b[0m\u001b[0m\n\u001b[0m\u001b[0;32m     40\u001b[0m         \u001b[0melement\u001b[0m\u001b[1;33m.\u001b[0m\u001b[0mclick\u001b[0m\u001b[1;33m(\u001b[0m\u001b[1;33m)\u001b[0m\u001b[1;33m\u001b[0m\u001b[1;33m\u001b[0m\u001b[0m\n\u001b[0;32m     41\u001b[0m \u001b[1;33m\u001b[0m\u001b[0m\n",
      "\u001b[1;32m~\\anaconda3\\lib\\site-packages\\selenium\\webdriver\\remote\\webdriver.py\u001b[0m in \u001b[0;36mfind_element\u001b[1;34m(self, by, value)\u001b[0m\n\u001b[0;32m   1242\u001b[0m             \u001b[0mvalue\u001b[0m \u001b[1;33m=\u001b[0m \u001b[1;34m'[name=\"%s\"]'\u001b[0m \u001b[1;33m%\u001b[0m \u001b[0mvalue\u001b[0m\u001b[1;33m\u001b[0m\u001b[1;33m\u001b[0m\u001b[0m\n\u001b[0;32m   1243\u001b[0m \u001b[1;33m\u001b[0m\u001b[0m\n\u001b[1;32m-> 1244\u001b[1;33m         return self.execute(Command.FIND_ELEMENT, {\n\u001b[0m\u001b[0;32m   1245\u001b[0m             \u001b[1;34m'using'\u001b[0m\u001b[1;33m:\u001b[0m \u001b[0mby\u001b[0m\u001b[1;33m,\u001b[0m\u001b[1;33m\u001b[0m\u001b[1;33m\u001b[0m\u001b[0m\n\u001b[0;32m   1246\u001b[0m             'value': value})['value']\n",
      "\u001b[1;32m~\\anaconda3\\lib\\site-packages\\selenium\\webdriver\\remote\\webdriver.py\u001b[0m in \u001b[0;36mexecute\u001b[1;34m(self, driver_command, params)\u001b[0m\n\u001b[0;32m    422\u001b[0m         \u001b[0mresponse\u001b[0m \u001b[1;33m=\u001b[0m \u001b[0mself\u001b[0m\u001b[1;33m.\u001b[0m\u001b[0mcommand_executor\u001b[0m\u001b[1;33m.\u001b[0m\u001b[0mexecute\u001b[0m\u001b[1;33m(\u001b[0m\u001b[0mdriver_command\u001b[0m\u001b[1;33m,\u001b[0m \u001b[0mparams\u001b[0m\u001b[1;33m)\u001b[0m\u001b[1;33m\u001b[0m\u001b[1;33m\u001b[0m\u001b[0m\n\u001b[0;32m    423\u001b[0m         \u001b[1;32mif\u001b[0m \u001b[0mresponse\u001b[0m\u001b[1;33m:\u001b[0m\u001b[1;33m\u001b[0m\u001b[1;33m\u001b[0m\u001b[0m\n\u001b[1;32m--> 424\u001b[1;33m             \u001b[0mself\u001b[0m\u001b[1;33m.\u001b[0m\u001b[0merror_handler\u001b[0m\u001b[1;33m.\u001b[0m\u001b[0mcheck_response\u001b[0m\u001b[1;33m(\u001b[0m\u001b[0mresponse\u001b[0m\u001b[1;33m)\u001b[0m\u001b[1;33m\u001b[0m\u001b[1;33m\u001b[0m\u001b[0m\n\u001b[0m\u001b[0;32m    425\u001b[0m             response['value'] = self._unwrap_value(\n\u001b[0;32m    426\u001b[0m                 response.get('value', None))\n",
      "\u001b[1;32m~\\anaconda3\\lib\\site-packages\\selenium\\webdriver\\remote\\errorhandler.py\u001b[0m in \u001b[0;36mcheck_response\u001b[1;34m(self, response)\u001b[0m\n\u001b[0;32m    245\u001b[0m                 \u001b[0malert_text\u001b[0m \u001b[1;33m=\u001b[0m \u001b[0mvalue\u001b[0m\u001b[1;33m[\u001b[0m\u001b[1;34m'alert'\u001b[0m\u001b[1;33m]\u001b[0m\u001b[1;33m.\u001b[0m\u001b[0mget\u001b[0m\u001b[1;33m(\u001b[0m\u001b[1;34m'text'\u001b[0m\u001b[1;33m)\u001b[0m\u001b[1;33m\u001b[0m\u001b[1;33m\u001b[0m\u001b[0m\n\u001b[0;32m    246\u001b[0m             \u001b[1;32mraise\u001b[0m \u001b[0mexception_class\u001b[0m\u001b[1;33m(\u001b[0m\u001b[0mmessage\u001b[0m\u001b[1;33m,\u001b[0m \u001b[0mscreen\u001b[0m\u001b[1;33m,\u001b[0m \u001b[0mstacktrace\u001b[0m\u001b[1;33m,\u001b[0m \u001b[0malert_text\u001b[0m\u001b[1;33m)\u001b[0m  \u001b[1;31m# type: ignore[call-arg]  # mypy is not smart enough here\u001b[0m\u001b[1;33m\u001b[0m\u001b[1;33m\u001b[0m\u001b[0m\n\u001b[1;32m--> 247\u001b[1;33m         \u001b[1;32mraise\u001b[0m \u001b[0mexception_class\u001b[0m\u001b[1;33m(\u001b[0m\u001b[0mmessage\u001b[0m\u001b[1;33m,\u001b[0m \u001b[0mscreen\u001b[0m\u001b[1;33m,\u001b[0m \u001b[0mstacktrace\u001b[0m\u001b[1;33m)\u001b[0m\u001b[1;33m\u001b[0m\u001b[1;33m\u001b[0m\u001b[0m\n\u001b[0m\u001b[0;32m    248\u001b[0m \u001b[1;33m\u001b[0m\u001b[0m\n\u001b[0;32m    249\u001b[0m     \u001b[1;32mdef\u001b[0m \u001b[0m_value_or_default\u001b[0m\u001b[1;33m(\u001b[0m\u001b[0mself\u001b[0m\u001b[1;33m,\u001b[0m \u001b[0mobj\u001b[0m\u001b[1;33m:\u001b[0m \u001b[0mMapping\u001b[0m\u001b[1;33m[\u001b[0m\u001b[0m_KT\u001b[0m\u001b[1;33m,\u001b[0m \u001b[0m_VT\u001b[0m\u001b[1;33m]\u001b[0m\u001b[1;33m,\u001b[0m \u001b[0mkey\u001b[0m\u001b[1;33m:\u001b[0m \u001b[0m_KT\u001b[0m\u001b[1;33m,\u001b[0m \u001b[0mdefault\u001b[0m\u001b[1;33m:\u001b[0m \u001b[0m_VT\u001b[0m\u001b[1;33m)\u001b[0m \u001b[1;33m->\u001b[0m \u001b[0m_VT\u001b[0m\u001b[1;33m:\u001b[0m\u001b[1;33m\u001b[0m\u001b[1;33m\u001b[0m\u001b[0m\n",
      "\u001b[1;31mNoSuchElementException\u001b[0m: Message: no such element: Unable to locate element: {\"method\":\"css selector\",\"selector\":\".next page-numbers\"}\n  (Session info: chrome=102.0.5005.115)\nStacktrace:\nBacktrace:\n\tOrdinal0 [0x00CFD953+2414931]\n\tOrdinal0 [0x00C8F5E1+1963489]\n\tOrdinal0 [0x00B7C6B8+837304]\n\tOrdinal0 [0x00BA9500+1021184]\n\tOrdinal0 [0x00BA979B+1021851]\n\tOrdinal0 [0x00BD6502+1205506]\n\tOrdinal0 [0x00BC44E4+1131748]\n\tOrdinal0 [0x00BD4812+1198098]\n\tOrdinal0 [0x00BC42B6+1131190]\n\tOrdinal0 [0x00B9E860+976992]\n\tOrdinal0 [0x00B9F756+980822]\n\tGetHandleVerifier [0x00F6CC62+2510274]\n\tGetHandleVerifier [0x00F5F760+2455744]\n\tGetHandleVerifier [0x00D8EABA+551962]\n\tGetHandleVerifier [0x00D8D916+547446]\n\tOrdinal0 [0x00C95F3B+1990459]\n\tOrdinal0 [0x00C9A898+2009240]\n\tOrdinal0 [0x00C9A985+2009477]\n\tOrdinal0 [0x00CA3AD1+2046673]\n\tBaseThreadInitThunk [0x763F6739+25]\n\tRtlGetFullPathName_UEx [0x76FC8FEF+1215]\n\tRtlGetFullPathName_UEx [0x76FC8FBD+1165]\n"
     ]
    }
   ],
   "source": [
    "def scroll_page(retailer):    \n",
    "    \n",
    "    #call get_url function to get the correct url linked to the Region that is going to be scraped    \n",
    "    sleep(1)\n",
    "    \n",
    "    res = driver.page_source.encode('utf-8')\n",
    "    soup = BeautifulSoup(res, \"html.parser\")\n",
    "    \n",
    "    num_products_view_2 = 0\n",
    "    scroll_range = 0 \n",
    "    #create a scroller that scrolls the_range amount of times.     \n",
    "    for _ in range(20):\n",
    "        res = driver.page_source.encode('utf-8')\n",
    "        soup = BeautifulSoup(res, \"html.parser\")\n",
    "        \n",
    "        # total number of products  in current view\n",
    "        num_products_view_1 = int(len(soup.find_all(attrs={\"class\": \"product-info\"})))\n",
    "            \n",
    "            #create attributes the_name_id, the_price_id, the_brand_id, the_volume_id \n",
    "        for counter in range(num_products_view_2, num_products_view_1):\n",
    "            the_name_id = soup.find_all(attrs={\"class\": \"product-info\"})[counter].find_all(attrs={\"class\": \"woocommerce-loop-product__title home-product-title\"})[0].text\n",
    "            print(the_name_id)\n",
    "            the_price_id = soup.find_all(attrs={\"class\": \"product-info\"})[counter].find_all(attrs={\"class\": \"price\"})[0].text\n",
    "            the_brand_id = the_name_id.split()\n",
    "            the_brand_id = the_brand_id[0] + \" \" + the_brand_id[1]\n",
    "            the_volume_id = the_name_id.split()\n",
    "            the_volume_id = the_volume_id[-1]\n",
    "            filename = \"Lorganic\"\n",
    "            fullpath = \"../Output/\" + str(filename) + \".csv\"\n",
    "            #write variables per product into csv file \n",
    "            with open(fullpath, mode='a', newline='', encoding='utf-8') as csv_file:\n",
    "                writer = csv.writer(csv_file)\n",
    "                writer.writerow([retailer, the_brand_id, the_volume_id, the_name_id, the_price_id])\n",
    "        \n",
    "            scroll_range += 130\n",
    "            driver.execute_script('window.scrollTo(0, ' + str(scroll_range) + ')')\n",
    "            sleep(0.1)\n",
    "            \n",
    "        element = driver.find_element(By.CLASS_NAME,'next page-numbers')\n",
    "        element.click()\n",
    "            \n",
    "            \n",
    "scroll_page(\"Lorganic\")"
   ]
  }
 ],
 "metadata": {
  "kernelspec": {
   "display_name": "Python 3 (ipykernel)",
   "language": "python",
   "name": "python3"
  },
  "language_info": {
   "codemirror_mode": {
    "name": "ipython",
    "version": 3
   },
   "file_extension": ".py",
   "mimetype": "text/x-python",
   "name": "python",
   "nbconvert_exporter": "python",
   "pygments_lexer": "ipython3",
   "version": "3.9.7"
  }
 },
 "nbformat": 4,
 "nbformat_minor": 5
}
