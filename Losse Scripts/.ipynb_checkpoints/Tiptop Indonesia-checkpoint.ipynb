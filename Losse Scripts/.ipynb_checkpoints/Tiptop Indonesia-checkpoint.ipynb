{
 "cells": [
  {
   "cell_type": "code",
   "execution_count": 1,
   "id": "97bf8fcc",
   "metadata": {},
   "outputs": [
    {
     "name": "stderr",
     "output_type": "stream",
     "text": [
      "\n",
      "\n",
      "====== WebDriver manager ======\n",
      "Current google-chrome version is 102.0.5005\n",
      "Get LATEST chromedriver version for 102.0.5005 google-chrome\n",
      "Driver [C:\\Users\\verbr\\.wdm\\drivers\\chromedriver\\win32\\102.0.5005.61\\chromedriver.exe] found in cache\n",
      "C:\\Users\\verbr\\AppData\\Local\\Temp/ipykernel_21264/780970375.py:7: DeprecationWarning: executable_path has been deprecated, please pass in a Service object\n",
      "  driver = webdriver.Chrome(ChromeDriverManager().install(), options=options)\n"
     ]
    }
   ],
   "source": [
    "from selenium import webdriver\n",
    "from selenium.webdriver.chrome.options import Options\n",
    "from webdriver_manager.chrome import ChromeDriverManager\n",
    "options = Options()\n",
    "options.add_argument(\"--disable-notifications\")\n",
    "\n",
    "driver = webdriver.Chrome(ChromeDriverManager().install(), options=options)\n",
    "\n",
    "from selenium.webdriver import ActionChains\n",
    "from selenium.webdriver.common.by import By\n",
    "from datetime import datetime\n",
    "from selenium.webdriver.common.keys import Keys\n",
    "\n",
    "\n",
    "import pandas as pd\n",
    "import statistics\n",
    "import csv\n",
    "from time import sleep\n",
    "import math"
   ]
  },
  {
   "cell_type": "code",
   "execution_count": 2,
   "id": "32bac64d",
   "metadata": {},
   "outputs": [],
   "source": [
    "from bs4 import BeautifulSoup\n",
    "res = driver.page_source.encode('utf-8')\n",
    "soup = BeautifulSoup(res, \"html.parser\")"
   ]
  },
  {
   "cell_type": "code",
   "execution_count": 3,
   "id": "24cbad03",
   "metadata": {},
   "outputs": [],
   "source": [
    "driver.get('https://shop.tiptop.co.id/store/Tiptop%20Tambun/categories')\n",
    "driver.maximize_window()\n",
    "sleep(10)\n"
   ]
  },
  {
   "cell_type": "code",
   "execution_count": 4,
   "id": "50ee1133",
   "metadata": {},
   "outputs": [],
   "source": [
    "element = driver.find_element(By.CSS_SELECTOR, '#CategoriesWrapper > div > div.remove-scroll > div:nth-child(3) > a > div > p')\n",
    "element.click()\n",
    "sleep(10)"
   ]
  },
  {
   "cell_type": "code",
   "execution_count": 5,
   "id": "c67e4009",
   "metadata": {},
   "outputs": [],
   "source": [
    "element = driver.find_element(By.CSS_SELECTOR, '#page-wrap > div > section > div > div > div.MuiToolbar-root.MuiToolbar-regular.product-list-header-row3.MuiToolbar-gutters > div > li:nth-child(2)')\n",
    "element.click()\n",
    "sleep(10)"
   ]
  },
  {
   "cell_type": "code",
   "execution_count": 7,
   "id": "dd13dc7c",
   "metadata": {},
   "outputs": [
    {
     "name": "stdout",
     "output_type": "stream",
     "text": [
      "\n"
     ]
    },
    {
     "ename": "PermissionError",
     "evalue": "[Errno 13] Permission denied: '../Output/Tiptop.csv'",
     "output_type": "error",
     "traceback": [
      "\u001b[1;31m---------------------------------------------------------------------------\u001b[0m",
      "\u001b[1;31mPermissionError\u001b[0m                           Traceback (most recent call last)",
      "\u001b[1;32m~\\AppData\\Local\\Temp/ipykernel_21264/2268094256.py\u001b[0m in \u001b[0;36m<module>\u001b[1;34m\u001b[0m\n\u001b[0;32m     47\u001b[0m \u001b[1;33m\u001b[0m\u001b[0m\n\u001b[0;32m     48\u001b[0m \u001b[1;33m\u001b[0m\u001b[0m\n\u001b[1;32m---> 49\u001b[1;33m \u001b[0mscroll_page\u001b[0m\u001b[1;33m(\u001b[0m\u001b[1;34m\"Tiptop\"\u001b[0m\u001b[1;33m)\u001b[0m\u001b[1;33m\u001b[0m\u001b[1;33m\u001b[0m\u001b[0m\n\u001b[0m",
      "\u001b[1;32m~\\AppData\\Local\\Temp/ipykernel_21264/2268094256.py\u001b[0m in \u001b[0;36mscroll_page\u001b[1;34m(retailer)\u001b[0m\n\u001b[0;32m     37\u001b[0m                 \u001b[0mfullpath\u001b[0m \u001b[1;33m=\u001b[0m \u001b[1;34m\"../Output/\"\u001b[0m \u001b[1;33m+\u001b[0m \u001b[0mstr\u001b[0m\u001b[1;33m(\u001b[0m\u001b[0mfilename\u001b[0m\u001b[1;33m)\u001b[0m \u001b[1;33m+\u001b[0m \u001b[1;34m\".csv\"\u001b[0m\u001b[1;33m\u001b[0m\u001b[1;33m\u001b[0m\u001b[0m\n\u001b[0;32m     38\u001b[0m                 \u001b[1;31m#write variables per wine into csv file\u001b[0m\u001b[1;33m\u001b[0m\u001b[1;33m\u001b[0m\u001b[0m\n\u001b[1;32m---> 39\u001b[1;33m                 \u001b[1;32mwith\u001b[0m \u001b[0mopen\u001b[0m\u001b[1;33m(\u001b[0m\u001b[0mfullpath\u001b[0m\u001b[1;33m,\u001b[0m \u001b[0mmode\u001b[0m\u001b[1;33m=\u001b[0m\u001b[1;34m'a'\u001b[0m\u001b[1;33m,\u001b[0m \u001b[0mnewline\u001b[0m\u001b[1;33m=\u001b[0m\u001b[1;34m''\u001b[0m\u001b[1;33m,\u001b[0m \u001b[0mencoding\u001b[0m\u001b[1;33m=\u001b[0m\u001b[1;34m'utf-8'\u001b[0m\u001b[1;33m)\u001b[0m \u001b[1;32mas\u001b[0m \u001b[0mcsv_file\u001b[0m\u001b[1;33m:\u001b[0m\u001b[1;33m\u001b[0m\u001b[1;33m\u001b[0m\u001b[0m\n\u001b[0m\u001b[0;32m     40\u001b[0m                     \u001b[0mwriter\u001b[0m \u001b[1;33m=\u001b[0m \u001b[0mcsv\u001b[0m\u001b[1;33m.\u001b[0m\u001b[0mwriter\u001b[0m\u001b[1;33m(\u001b[0m\u001b[0mcsv_file\u001b[0m\u001b[1;33m)\u001b[0m\u001b[1;33m\u001b[0m\u001b[1;33m\u001b[0m\u001b[0m\n\u001b[0;32m     41\u001b[0m                     \u001b[0mwriter\u001b[0m\u001b[1;33m.\u001b[0m\u001b[0mwriterow\u001b[0m\u001b[1;33m(\u001b[0m\u001b[1;33m[\u001b[0m\u001b[0mretailer\u001b[0m\u001b[1;33m,\u001b[0m \u001b[0mthe_brand_id\u001b[0m\u001b[1;33m,\u001b[0m \u001b[0mthe_volume_id\u001b[0m\u001b[1;33m,\u001b[0m\u001b[0mthe_name_id\u001b[0m\u001b[1;33m,\u001b[0m \u001b[0mthe_price_id\u001b[0m\u001b[1;33m]\u001b[0m\u001b[1;33m)\u001b[0m\u001b[1;33m\u001b[0m\u001b[1;33m\u001b[0m\u001b[0m\n",
      "\u001b[1;31mPermissionError\u001b[0m: [Errno 13] Permission denied: '../Output/Tiptop.csv'"
     ]
    }
   ],
   "source": [
    "def scroll_page(retailer):    \n",
    "    \n",
    "    #call get_url function to get the correct url linked to the Region that is going to be scraped    \n",
    "    sleep(1)\n",
    "    \n",
    "    res = driver.page_source.encode('utf-8')\n",
    "    soup = BeautifulSoup(res, \"html.parser\")\n",
    "    scroll_range = 0\n",
    "    #create scraping_round variable that counts the amount of times all the wines are being scraped \n",
    "    lengte = 0\n",
    "    num_products_view_2 = 0\n",
    "    #create a scroller that scrolls the_range amount of times. \n",
    "    \n",
    "    \n",
    "    for _ in range(15):\n",
    "        res = driver.page_source.encode('utf-8')\n",
    "        soup = BeautifulSoup(res, \"html.parser\")\n",
    "        \n",
    "        # total number of wines in current view\n",
    "        num_products_view_1 = int(len(soup.find_all(attrs={\"class\": \"product-card-container\"})))\n",
    "        #create attributes the_name_id, the_price_id, the_reviews_id and the_rating id\n",
    "        if num_products_view_1 > num_products_view_2:\n",
    "        #create attributes the_name_id, the_price_id, the_reviews_id and the_rating id\n",
    "            for counter in range(num_products_view_2, num_products_view_1):\n",
    "                the_name_id = soup.find_all(attrs={\"class\": \"product-card-container\"})[counter].find_all(attrs={\"class\": \"product-name width ellipse three-lines-single-product\"})[0].text\n",
    "                try: \n",
    "                     the_price_id = soup.find_all(attrs={\"class\": \"product-card-container\"})[counter].find_all(attrs={\"class\": \"product-price-orig---discounted\"})[0].text\n",
    "                except: \n",
    "                    the_price_id = soup.find_all(attrs={\"class\": \"product-card-container\"})[counter].find_all(attrs={\"class\": \"product-price-current\"})[0].text\n",
    "                print(the_price_id)\n",
    "                \n",
    "                the_brand_id = the_name_id.split()\n",
    "                the_brand_id = the_brand_id[0] + \" \" + the_brand_id[1]\n",
    "                the_volume_id = soup.find_all(attrs={\"class\": \"product-card-container\"})[counter].find_all(attrs={\"class\": \"product-variant product-page-variant\"})[0].text\n",
    "                \n",
    "                filename = \"Tiptop\"\n",
    "                fullpath = \"../Output/\" + str(filename) + \".csv\"\n",
    "                #write variables per wine into csv file \n",
    "                with open(fullpath, mode='a', newline='', encoding='utf-8') as csv_file:\n",
    "                    writer = csv.writer(csv_file)\n",
    "                    writer.writerow([retailer, the_brand_id, the_volume_id,the_name_id, the_price_id])\n",
    "            \n",
    "        scroll_range += 1000\n",
    "        driver.execute_script('window.scrollTo(0, ' + str(scroll_range) + ')')\n",
    "        \n",
    "        num_products_view_2 = int(len(soup.find_all(attrs={\"class\": \"product-card-container\"})))\n",
    " \n",
    "         \n",
    "scroll_page(\"Tiptop\")"
   ]
  },
  {
   "cell_type": "code",
   "execution_count": null,
   "id": "7bb8fbf3",
   "metadata": {},
   "outputs": [],
   "source": []
  }
 ],
 "metadata": {
  "kernelspec": {
   "display_name": "Python 3 (ipykernel)",
   "language": "python",
   "name": "python3"
  },
  "language_info": {
   "codemirror_mode": {
    "name": "ipython",
    "version": 3
   },
   "file_extension": ".py",
   "mimetype": "text/x-python",
   "name": "python",
   "nbconvert_exporter": "python",
   "pygments_lexer": "ipython3",
   "version": "3.9.7"
  }
 },
 "nbformat": 4,
 "nbformat_minor": 5
}
