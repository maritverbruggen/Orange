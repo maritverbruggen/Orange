{
 "cells": [
  {
   "cell_type": "code",
   "execution_count": 1,
   "id": "f63a0d6d",
   "metadata": {},
   "outputs": [
    {
     "name": "stderr",
     "output_type": "stream",
     "text": [
      "\n",
      "\n",
      "====== WebDriver manager ======\n",
      "Current google-chrome version is 102.0.5005\n",
      "Get LATEST chromedriver version for 102.0.5005 google-chrome\n",
      "Driver [C:\\Users\\verbr\\.wdm\\drivers\\chromedriver\\win32\\102.0.5005.61\\chromedriver.exe] found in cache\n",
      "C:\\Users\\verbr\\AppData\\Local\\Temp/ipykernel_28948/3949359056.py:7: DeprecationWarning: executable_path has been deprecated, please pass in a Service object\n",
      "  driver = webdriver.Chrome(ChromeDriverManager().install())\n"
     ]
    }
   ],
   "source": [
    "#import relevant packages used in this script\n",
    "\n",
    "from selenium import webdriver\n",
    "from selenium.webdriver.chrome.options import Options\n",
    "from webdriver_manager.chrome import ChromeDriverManager\n",
    "\n",
    "driver = webdriver.Chrome(ChromeDriverManager().install())\n",
    "\n",
    "from selenium.webdriver import ActionChains\n",
    "from selenium.webdriver.common.by import By\n",
    "from datetime import datetime\n",
    "\n",
    "import pandas as pd\n",
    "import statistics\n",
    "import csv\n",
    "from time import sleep\n",
    "import math"
   ]
  },
  {
   "cell_type": "code",
   "execution_count": 2,
   "id": "88a6f07a",
   "metadata": {},
   "outputs": [],
   "source": [
    "from bs4 import BeautifulSoup\n",
    "res = driver.page_source.encode('utf-8')\n",
    "soup = BeautifulSoup(res, \"html.parser\")"
   ]
  },
  {
   "cell_type": "code",
   "execution_count": null,
   "id": "f8819762",
   "metadata": {},
   "outputs": [],
   "source": [
    "driver.get(\"https://www.harristeeter.com/shop/store/336/search/coffee\")\n",
    "driver.maximize_window()\n",
    "sleep(5)"
   ]
  },
  {
   "cell_type": "code",
   "execution_count": null,
   "id": "b9fc2fec",
   "metadata": {},
   "outputs": [],
   "source": []
  },
  {
   "cell_type": "code",
   "execution_count": null,
   "id": "b8da6cb5",
   "metadata": {},
   "outputs": [],
   "source": [
    "def scroll_page(retailer):    \n",
    "    \n",
    "    #call get_url function to get the correct url linked to the Region that is going to be scraped    \n",
    "    sleep(1)\n",
    "    \n",
    "    res = driver.page_source.encode('utf-8')\n",
    "    soup = BeautifulSoup(res, \"html.parser\")\n",
    "    \n",
    "    \n",
    "    #create scraping_round variable that counts the amount of times all the wines are being scraped \n",
    "    scraping_round = 1\n",
    "    lengte = 0\n",
    "    num_products_view_2 = 0\n",
    "    #create a scroller that scrolls the_range amount of times.     \n",
    "    for _ in range(20):\n",
    "        res = driver.page_source.encode('utf-8')\n",
    "        soup = BeautifulSoup(res, \"html.parser\")\n",
    "        \n",
    "        # total number of wines in current view\n",
    "        num_products_view_1 = int(len(soup.find_all(attrs={\"class\": \"product-main\"})))\n",
    "        \n",
    "        #create attributes the_name_id, the_price_id, the_reviews_id and the_rating id\n",
    "        for counter in range(num_products_view_2, num_products_view_1):\n",
    "            the_name_id = soup.find_all(attrs={\"class\": \"product-main\"})[counter].find_all(attrs={\"class\": \"product-name\"})[0].text\n",
    "            print(the_name_id)\n",
    "            the_price_id = soup.find_all(attrs={\"class\": \"product-main\"})[counter].find_all(attrs={\"class\": \"product-price\"})[0].text\n",
    "            the_brand_id = the_name_id.split()\n",
    "            the_brand_id = the_brand_id[0] + \" \" + the_brand_id[1]\n",
    "            the_volume_id = soup.find_all(attrs={\"class\": \"product-main\"})[counter].find_all(attrs={\"class\": \"product-quantity\"})[0].text\n",
    "            filename = \"HarrisTeeter\"\n",
    "            fullpath = \"../Output/\" + str(filename) + \".csv\"\n",
    "            #write variables per wine into csv file \n",
    "            with open(fullpath, mode='a', newline='', encoding='utf-8') as csv_file:\n",
    "                writer = csv.writer(csv_file)\n",
    "                writer.writerow([retailer, the_brand_id, the_volume_id, the_name_id, the_price_id])\n",
    "            lengte += 1   \n",
    "        scraping_round += 1\n",
    "        sleep(10)\n",
    "        \n",
    "        driver.execute_script('window.scrollTo(0, 500)')\n",
    "        sleep(5)\n",
    "        #break als er geen \"next\" button gevonden kan worden  \n",
    "        sleep(3)\n",
    "        try:\n",
    "            new_element = driver.find_element(By.CSS_SELECTOR, 'body > app-root > div > hts-layout > span > hts-search > div > section > div > div.product-category-list.col-lg-7.col-md-9.col-sm-12.column7 > div.pagination-bar > a.next-arrow')\n",
    "            new_element.click()\n",
    "            sleep(1)\n",
    "\n",
    "        except:\n",
    "            print('kan niet vinden')\n",
    "            break\n",
    "            \n",
    "            \n",
    "scroll_page(\"Harris Teeter\")"
   ]
  }
 ],
 "metadata": {
  "kernelspec": {
   "display_name": "Python 3 (ipykernel)",
   "language": "python",
   "name": "python3"
  },
  "language_info": {
   "codemirror_mode": {
    "name": "ipython",
    "version": 3
   },
   "file_extension": ".py",
   "mimetype": "text/x-python",
   "name": "python",
   "nbconvert_exporter": "python",
   "pygments_lexer": "ipython3",
   "version": "3.9.7"
  }
 },
 "nbformat": 4,
 "nbformat_minor": 5
}
