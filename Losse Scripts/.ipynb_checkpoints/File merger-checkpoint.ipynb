{
 "cells": [
  {
   "cell_type": "code",
   "execution_count": 1,
   "id": "7ff3132e",
   "metadata": {},
   "outputs": [],
   "source": [
    "def write_header(): \n",
    "    import os\n",
    "    import pandas as pd\n",
    "    from time import sleep \n",
    "    folder = os.chdir(\"../Output\")\n",
    "    files = os.listdir(folder)\n",
    "    for file in files: \n",
    "        filename = file[:-4]\n",
    "        filename = str(filename)\n",
    "        print(filename)\n",
    "        df = pd.read_csv(r'../Output/' +filename + '.csv', header=None)\n",
    "        df.to_csv(r'../Output/' + filename + '.csv', header=[\"Retailer\", \"Brand\", \"Volume\", \"Name\", \"Price\"], index=False)"
   ]
  },
  {
   "cell_type": "code",
   "execution_count": 2,
   "id": "a66b42e5",
   "metadata": {
    "scrolled": true
   },
   "outputs": [
    {
     "name": "stdout",
     "output_type": "stream",
     "text": [
      "Albaladi Qatar\n",
      "Albert Heijn\n",
      "Aldi Duitsland\n",
      "Aljazira\n",
      "Amazon\n",
      "Auchan Polen\n",
      "Auchan\n",
      "BigBasket\n",
      "Bompreco\n",
      "Carrefour Tunesie\n",
      "Carrefour_Arabie\n",
      "Carrefour_Brazilie\n",
      "Carrefour_Emirates\n",
      "Carrefour_Qatar\n",
      "Chata Polska\n",
      "Choithrams\n",
      "CIA Market Litouwen\n",
      "Cityflower Arabia\n",
      "Combi\n",
      "Condor\n",
      "Costco\n",
      "Danube\n",
      "Drive Polen\n",
      "Gopuff\n",
      "Gruste Litouwen\n",
      "Hannaford\n",
      "IGA Australia\n",
      "JD.JD\n",
      "Jumbo\n",
      "Kaufland\n",
      "Leclerc Polen\n",
      "Lulu Emirates\n",
      "Lulu Indonesia\n",
      "Lulu Saudi Arabie\n",
      "Monoprix Tunesie\n",
      "Netto\n",
      "Othaim Arabia\n",
      "Pao de Acucar\n",
      "Rimi Litouwen\n",
      "Safari Emirates\n",
      "Safari Qatar\n",
      "Spar Nederland\n",
      "Spar Qatar\n",
      "Spinneys\n",
      "Tahimi_Arabie\n",
      "Tiptop\n",
      "Tops_Thailand\n",
      "Utenos Litouwen\n",
      "Waitrose\n",
      "Woolworths\n",
      "Yogya\n"
     ]
    }
   ],
   "source": [
    "write_header()"
   ]
  },
  {
   "cell_type": "code",
   "execution_count": 3,
   "id": "5a076504",
   "metadata": {},
   "outputs": [],
   "source": [
    "def clean_files(): \n",
    "    import os \n",
    "    import pandas as pd\n",
    "    from time import sleep\n",
    "    folder = os.chdir(\"../Output\")\n",
    "    files = os.listdir(folder)\n",
    "    for file in files: \n",
    "        filename = file[:-4]\n",
    "        filename = str(filename)\n",
    "        print(filename)\n",
    "        read_file = pd.read_csv(r'../Output/' + filename + '.csv')\n",
    "        read_file.to_excel(r'../Output/' + filename + '.xlsx', index = None, header=True)\n",
    "        sleep(3)\n",
    "    "
   ]
  },
  {
   "cell_type": "code",
   "execution_count": null,
   "id": "38d2783b",
   "metadata": {},
   "outputs": [
    {
     "name": "stdout",
     "output_type": "stream",
     "text": [
      "Albaladi Qatar\n",
      "Albert Heijn\n",
      "Aldi Duitsland\n",
      "Aljazira\n",
      "Amazon\n",
      "Auchan Polen\n",
      "Auchan\n",
      "BigBasket\n",
      "Bompreco\n",
      "Carrefour Tunesie\n",
      "Carrefour_Arabie\n",
      "Carrefour_Brazilie\n",
      "Carrefour_Emirates\n",
      "Carrefour_Qatar\n",
      "Chata Polska\n",
      "Choithrams\n",
      "CIA Market Litouwen\n",
      "Cityflower Arabia\n",
      "Combi\n",
      "Condor\n",
      "Costco\n",
      "Danube\n",
      "Drive Polen\n",
      "Gopuff\n",
      "Gruste Litouwen\n",
      "Hannaford\n",
      "IGA Australia\n",
      "JD.JD\n",
      "Jumbo\n",
      "Kaufland\n",
      "Leclerc Polen\n",
      "Lulu Emirates\n",
      "Lulu Indonesia\n",
      "Lulu Saudi Arabie\n",
      "Monoprix Tunesie\n",
      "Netto\n"
     ]
    }
   ],
   "source": [
    "clean_files()"
   ]
  },
  {
   "cell_type": "code",
   "execution_count": null,
   "id": "0ef7d9df",
   "metadata": {},
   "outputs": [],
   "source": [
    "def merge_files():\n",
    "    import os\n",
    "    import glob\n",
    "    import pandas as pd\n",
    "    os.chdir(\"../Output\")\n",
    "    extension = 'xlsx'\n",
    "    all_filenames = [i for i in glob.glob('*.{}'.format(extension))]\n",
    "    #combine all files in the list\n",
    "    combined_excel = pd.concat([pd.read_excel(f) for f in all_filenames])\n",
    "    #export to csv\n",
    "    combined_excel.to_excel( \"../Full Data/all_coffee_data0805.xlsx\", index= False)"
   ]
  },
  {
   "cell_type": "code",
   "execution_count": null,
   "id": "6e3fd407",
   "metadata": {},
   "outputs": [],
   "source": [
    "merge_files()"
   ]
  },
  {
   "cell_type": "code",
   "execution_count": null,
   "id": "b8b0523d",
   "metadata": {},
   "outputs": [],
   "source": [
    "def remove_files():\n",
    "    import os \n",
    "    directory = \"../Output\"\n",
    "\n",
    "    files_in_directory = os.listdir(directory)\n",
    "    print(files_in_directory)\n",
    "    filtered_files = [file for file in files_in_directory if file.endswith(\".csv\")]\n",
    "    for file in filtered_files:\n",
    "        path_to_file = os.path.join(directory, file)\n",
    "        os.remove(path_to_file)\n",
    "        print(file)\n"
   ]
  },
  {
   "cell_type": "code",
   "execution_count": null,
   "id": "caaeaa8c",
   "metadata": {
    "scrolled": true
   },
   "outputs": [],
   "source": [
    "remove_files()"
   ]
  },
  {
   "cell_type": "code",
   "execution_count": null,
   "id": "83d24bea",
   "metadata": {},
   "outputs": [],
   "source": []
  }
 ],
 "metadata": {
  "kernelspec": {
   "display_name": "Python 3 (ipykernel)",
   "language": "python",
   "name": "python3"
  },
  "language_info": {
   "codemirror_mode": {
    "name": "ipython",
    "version": 3
   },
   "file_extension": ".py",
   "mimetype": "text/x-python",
   "name": "python",
   "nbconvert_exporter": "python",
   "pygments_lexer": "ipython3",
   "version": "3.9.7"
  }
 },
 "nbformat": 4,
 "nbformat_minor": 5
}
