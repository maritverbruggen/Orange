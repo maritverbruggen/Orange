{
 "cells": [
  {
   "cell_type": "code",
   "execution_count": 1,
   "id": "1535be71",
   "metadata": {},
   "outputs": [
    {
     "name": "stderr",
     "output_type": "stream",
     "text": [
      "\n",
      "\n",
      "====== WebDriver manager ======\n",
      "Current google-chrome version is 105.0.5195\n",
      "Get LATEST chromedriver version for 105.0.5195 google-chrome\n",
      "Driver [C:\\Users\\verbr\\.wdm\\drivers\\chromedriver\\win32\\105.0.5195.52\\chromedriver.exe] found in cache\n",
      "C:\\Users\\verbr\\AppData\\Local\\Temp/ipykernel_21316/844030867.py:7: DeprecationWarning: executable_path has been deprecated, please pass in a Service object\n",
      "  driver = webdriver.Chrome(ChromeDriverManager().install())\n"
     ]
    }
   ],
   "source": [
    "#import relevant packages used in this script\n",
    "\n",
    "from selenium import webdriver\n",
    "from selenium.webdriver.chrome.options import Options\n",
    "from webdriver_manager.chrome import ChromeDriverManager\n",
    "\n",
    "driver = webdriver.Chrome(ChromeDriverManager().install())\n",
    "\n",
    "from selenium.webdriver import ActionChains\n",
    "from selenium.webdriver.common.by import By\n",
    "from datetime import datetime\n",
    "from selenium.webdriver.common.keys import Keys\n",
    "\n",
    "# create action chain object\n",
    "action = ActionChains(driver)\n",
    "\n",
    "import pandas as pd\n",
    "import statistics\n",
    "import csv\n",
    "from time import sleep\n",
    "import math\n",
    "import itertools"
   ]
  },
  {
   "cell_type": "code",
   "execution_count": 2,
   "id": "15908690",
   "metadata": {},
   "outputs": [],
   "source": [
    "from bs4 import BeautifulSoup\n",
    "res = driver.page_source.encode('utf-8')\n",
    "soup = BeautifulSoup(res, \"html.parser\")"
   ]
  },
  {
   "cell_type": "code",
   "execution_count": 3,
   "id": "ffced889",
   "metadata": {},
   "outputs": [],
   "source": [
    "driver.get(\"https://shop.foodlion.com/shop/categories/101\")\n",
    "driver.maximize_window()\n",
    "sleep(15)\n",
    "\n",
    "element = driver.find_element(By.CSS_SELECTOR, '#modal-close')\n",
    "element.click()\n",
    "sleep(2)\n",
    "\n",
    "\n",
    "element = driver.find_element(By.XPATH,'//*[@id=\"shopping-selector-parent-process-modal-close-click\"]')\n",
    "element.click()\n",
    "sleep(5)"
   ]
  },
  {
   "cell_type": "code",
   "execution_count": 5,
   "id": "c2d53312",
   "metadata": {},
   "outputs": [
    {
     "name": "stdout",
     "output_type": "stream",
     "text": [
      "2\n",
      "Food Lion Donut Shop Blend Coffee Single Serve Cups\n",
      "Food Lion Breakfast Blend Coffee Single Serve Cups\n",
      "2\n",
      "Food Lion Donut Shop Blend Coffee Single Serve Cups\n",
      "Food Lion Breakfast Blend Coffee Single Serve Cups\n",
      "kan geen nieuwe pagina meer vinden\n",
      "4\n"
     ]
    }
   ],
   "source": [
    "def scroll_page(retailer):    \n",
    "    \n",
    "    #call get_url function to get the correct url linked to the Region that is going to be scraped    \n",
    "    sleep(1)\n",
    "    \n",
    "    res = driver.page_source.encode('utf-8')\n",
    "    soup = BeautifulSoup(res, \"html.parser\")\n",
    "    \n",
    "    number = 0\n",
    "    scroll_range = 0 \n",
    "    scroll_start = 0 \n",
    "    \n",
    "   \n",
    "    #create a scroller that scrolls the_range amount of times.     \n",
    "    for _ in range(10):\n",
    "        \n",
    "       \n",
    "        for _ in range(50): \n",
    "            scroll_start += 200\n",
    "            driver.execute_script('window.scrollTo(0, ' + str(scroll_start) + ')')\n",
    "            \n",
    "        sleep(5)\n",
    "            \n",
    "        \n",
    "        # total number of products in current view\n",
    "        num_products_view_1 = int(len(soup.find_all(attrs={\"aria-label\": \"Product\"})))\n",
    "        print(num_products_view_1)\n",
    "        \n",
    "        #create attributes the_name_id, the_price_id, the_brand_id and the_volume_id \n",
    "        \n",
    "        for counter in range(num_products_view_1):\n",
    "            the_name_id = soup.find_all(attrs={\"aria-label\": \"Product\"})[counter].find_all(attrs={\"class\": \"css-f85de\"})[0].text\n",
    "            print(the_name_id)\n",
    "            try: \n",
    "                the_price_id = soup.find_all(attrs={\"aria-label\": \"Product\"})[counter].find_all(attrs={\"class\":  \"css-n8p7h0\"})[0].text\n",
    "            except:\n",
    "                the_price_id = soup.find_all(attrs={\"aria-label\": \"Product\"})[counter].find_all(attrs={\"class\":  \"css-coqxwd\"})[0].text\n",
    "            \n",
    "            the_brand_id = the_name_id.split()\n",
    "            the_brand_id = the_brand_id[0] + \" \" + the_brand_id[1]\n",
    "            try:\n",
    "                the_volume_id = soup.find_all(attrs={\"aria-label\": \"Product\"})[counter].find_all(attrs={\"class\": \"css-1gczm2n\"})[0].text\n",
    "            except: \n",
    "                the_volume_id = \"no volume available\"\n",
    "            \n",
    "            filename = \"Food_Lion\"\n",
    "            fullpath = \"../Output/\" + str(filename) + \".csv\"\n",
    "            with open(fullpath, mode='a', newline='', encoding='utf-8') as csv_file:\n",
    "                writer = csv.writer(csv_file)\n",
    "                writer.writerow([retailer, the_brand_id, the_volume_id,the_name_id, the_price_id])\n",
    "                       \n",
    "            number +=1\n",
    "            scroll_range += 200\n",
    "            driver.execute_script('window.scrollTo(0, ' + str(scroll_range) + ')')\n",
    "            sleep(0.2)\n",
    "        try:\n",
    "            new_element = driver.find_element(By.CSS_SELECTOR, '#content > div > div > div.content-wrapper > div > div.cell-container > div > div > div.text-center.clearfix > nav > ul > li.pagination-next')\n",
    "            new_element.click()\n",
    "            sleep(5)\n",
    "\n",
    "        except:\n",
    "            print('kan geen nieuwe pagina meer vinden')\n",
    "            print(number)\n",
    "            break\n",
    "        \n",
    "scroll_page(\"Food_Lion\")"
   ]
  },
  {
   "cell_type": "code",
   "execution_count": null,
   "id": "b7462182",
   "metadata": {},
   "outputs": [],
   "source": []
  }
 ],
 "metadata": {
  "kernelspec": {
   "display_name": "Python 3 (ipykernel)",
   "language": "python",
   "name": "python3"
  },
  "language_info": {
   "codemirror_mode": {
    "name": "ipython",
    "version": 3
   },
   "file_extension": ".py",
   "mimetype": "text/x-python",
   "name": "python",
   "nbconvert_exporter": "python",
   "pygments_lexer": "ipython3",
   "version": "3.9.7"
  }
 },
 "nbformat": 4,
 "nbformat_minor": 5
}
