{
 "cells": [
  {
   "cell_type": "code",
   "execution_count": 1,
   "id": "7ff3132e",
   "metadata": {},
   "outputs": [],
   "source": [
    "def write_header(): \n",
    "    import os\n",
    "    import pandas as pd\n",
    "    from time import sleep \n",
    "    folder = os.chdir(\"../Output\")\n",
    "    files = os.listdir(folder)\n",
    "    for file in files: \n",
    "        filename = file[:-4]\n",
    "        filename = str(filename)\n",
    "        print(filename)\n",
    "        df = pd.read_csv(r'../Output/' +filename + '.csv', header=None)\n",
    "        df.to_csv(r'../Output/' + filename + '.csv', header=[\"Retailer\", \"Brand\", \"Volume\", \"Name\", \"Price\"], index=False)"
   ]
  },
  {
   "cell_type": "code",
   "execution_count": 2,
   "id": "a66b42e5",
   "metadata": {
    "scrolled": true
   },
   "outputs": [
    {
     "name": "stdout",
     "output_type": "stream",
     "text": [
      "Albert Heijn\n",
      "Aljazira\n",
      "Amazon\n",
      "Auchan Polen\n",
      "Auchan\n",
      "BigBasket\n",
      "Bompreco\n",
      "Carrefour Tunesie\n",
      "Carrefour_Arabie\n",
      "Carrefour_Brazilie\n",
      "Carrefour_Emirates\n",
      "Chata Polska\n",
      "Choithrams\n",
      "CIA Market Litouwen\n",
      "Cityflower Arabia\n",
      "Combi\n",
      "Condor\n",
      "Costco\n",
      "Danube\n",
      "Drive Polen\n",
      "Gopuff\n",
      "Gruste Litouwen\n",
      "Hannaford\n",
      "JD.JD\n",
      "Jumbo\n",
      "Kaufland\n",
      "Leclerc Polen\n",
      "Lulu Emirates\n",
      "Lulu Indonesia\n",
      "Lulu Saudi Arabie\n",
      "Monoprix Tunesie\n",
      "Netto\n",
      "Othaim Arabia\n",
      "Pao de Acucar\n",
      "Rimi Litouwen\n",
      "Safari Emirates\n",
      "Safari Qatar\n",
      "Spar Nederland\n",
      "Spar Qatar\n",
      "Spinneys\n",
      "Tahimi_Arabie\n",
      "Tiptop\n",
      "Tops_Thailand\n",
      "Utenos Litouwen\n",
      "Waitrose\n",
      "Woolworths\n",
      "Yogya\n"
     ]
    }
   ],
   "source": [
    "write_header()"
   ]
  },
  {
   "cell_type": "code",
   "execution_count": 3,
   "id": "5a076504",
   "metadata": {},
   "outputs": [],
   "source": [
    "def clean_files(): \n",
    "    import os \n",
    "    import pandas as pd\n",
    "    from time import sleep\n",
    "    folder = os.chdir(\"../Output\")\n",
    "    files = os.listdir(folder)\n",
    "    for file in files: \n",
    "        filename = file[:-4]\n",
    "        filename = str(filename)\n",
    "        print(filename)\n",
    "        read_file = pd.read_csv(r'../Output/' + filename + '.csv')\n",
    "        read_file.to_excel(r'../Output/' + filename + '.xlsx', index = None, header=True)\n",
    "        sleep(3)\n",
    "    "
   ]
  },
  {
   "cell_type": "code",
   "execution_count": 4,
   "id": "38d2783b",
   "metadata": {},
   "outputs": [
    {
     "name": "stdout",
     "output_type": "stream",
     "text": [
      "Albert Heijn\n",
      "Aljazira\n",
      "Amazon\n",
      "Auchan Polen\n",
      "Auchan\n",
      "BigBasket\n",
      "Bompreco\n",
      "Carrefour Tunesie\n",
      "Carrefour_Arabie\n",
      "Carrefour_Brazilie\n",
      "Carrefour_Emirates\n",
      "Chata Polska\n",
      "Choithrams\n",
      "CIA Market Litouwen\n",
      "Cityflower Arabia\n",
      "Combi\n",
      "Condor\n",
      "Costco\n",
      "Danube\n",
      "Drive Polen\n",
      "Gopuff\n",
      "Gruste Litouwen\n",
      "Hannaford\n",
      "JD.JD\n",
      "Jumbo\n",
      "Kaufland\n",
      "Leclerc Polen\n",
      "Lulu Emirates\n",
      "Lulu Indonesia\n",
      "Lulu Saudi Arabie\n",
      "Monoprix Tunesie\n",
      "Netto\n",
      "Othaim Arabia\n",
      "Pao de Acucar\n",
      "Rimi Litouwen\n",
      "Safari Emirates\n",
      "Safari Qatar\n",
      "Spar Nederland\n",
      "Spar Qatar\n",
      "Spinneys\n",
      "Tahimi_Arabie\n",
      "Tiptop\n",
      "Tops_Thailand\n",
      "Utenos Litouwen\n",
      "Waitrose\n",
      "Woolworths\n",
      "Yogya\n"
     ]
    }
   ],
   "source": [
    "clean_files()"
   ]
  },
  {
   "cell_type": "code",
   "execution_count": 5,
   "id": "0ef7d9df",
   "metadata": {},
   "outputs": [],
   "source": [
    "def merge_files():\n",
    "    import os\n",
    "    import glob\n",
    "    import pandas as pd\n",
    "    os.chdir(\"../Output\")\n",
    "    extension = 'xlsx'\n",
    "    all_filenames = [i for i in glob.glob('*.{}'.format(extension))]\n",
    "    #combine all files in the list\n",
    "    combined_excel = pd.concat([pd.read_excel(f) for f in all_filenames])\n",
    "    #export to csv\n",
    "    combined_excel.to_excel( \"../Full Data/all_coffee_data0809.xlsx\", index= False)"
   ]
  },
  {
   "cell_type": "code",
   "execution_count": 6,
   "id": "6e3fd407",
   "metadata": {},
   "outputs": [],
   "source": [
    "merge_files()"
   ]
  },
  {
   "cell_type": "code",
   "execution_count": 7,
   "id": "b8b0523d",
   "metadata": {},
   "outputs": [],
   "source": [
    "def remove_files():\n",
    "    import os \n",
    "    directory = \"../Output\"\n",
    "\n",
    "    files_in_directory = os.listdir(directory)\n",
    "    print(files_in_directory)\n",
    "    filtered_files = [file for file in files_in_directory if file.endswith(\".csv\")]\n",
    "    for file in filtered_files:\n",
    "        path_to_file = os.path.join(directory, file)\n",
    "        os.remove(path_to_file)\n",
    "        print(file)\n"
   ]
  },
  {
   "cell_type": "code",
   "execution_count": 8,
   "id": "caaeaa8c",
   "metadata": {
    "scrolled": true
   },
   "outputs": [
    {
     "name": "stdout",
     "output_type": "stream",
     "text": [
      "['Albert Heijn.csv', 'Albert Heijn.xlsx', 'Aljazira.csv', 'Aljazira.xlsx', 'Amazon.csv', 'Amazon.xlsx', 'Auchan Polen.csv', 'Auchan Polen.xlsx', 'Auchan.csv', 'Auchan.xlsx', 'BigBasket.csv', 'BigBasket.xlsx', 'Bompreco.csv', 'Bompreco.xlsx', 'Carrefour Tunesie.csv', 'Carrefour Tunesie.xlsx', 'Carrefour_Arabie.csv', 'Carrefour_Arabie.xlsx', 'Carrefour_Brazilie.csv', 'Carrefour_Brazilie.xlsx', 'Carrefour_Emirates.csv', 'Carrefour_Emirates.xlsx', 'Chata Polska.csv', 'Chata Polska.xlsx', 'Choithrams.csv', 'Choithrams.xlsx', 'CIA Market Litouwen.csv', 'CIA Market Litouwen.xlsx', 'Cityflower Arabia.csv', 'Cityflower Arabia.xlsx', 'Combi.csv', 'Combi.xlsx', 'Condor.csv', 'Condor.xlsx', 'Costco.csv', 'Costco.xlsx', 'Danube.csv', 'Danube.xlsx', 'Drive Polen.csv', 'Drive Polen.xlsx', 'Gopuff.csv', 'Gopuff.xlsx', 'Gruste Litouwen.csv', 'Gruste Litouwen.xlsx', 'Hannaford.csv', 'Hannaford.xlsx', 'JD.JD.csv', 'JD.JD.xlsx', 'Jumbo.csv', 'Jumbo.xlsx', 'Kaufland.csv', 'Kaufland.xlsx', 'Leclerc Polen.csv', 'Leclerc Polen.xlsx', 'Lulu Emirates.csv', 'Lulu Emirates.xlsx', 'Lulu Indonesia.csv', 'Lulu Indonesia.xlsx', 'Lulu Saudi Arabie.csv', 'Lulu Saudi Arabie.xlsx', 'Monoprix Tunesie.csv', 'Monoprix Tunesie.xlsx', 'Netto.csv', 'Netto.xlsx', 'Othaim Arabia.csv', 'Othaim Arabia.xlsx', 'Pao de Acucar.csv', 'Pao de Acucar.xlsx', 'Rimi Litouwen.csv', 'Rimi Litouwen.xlsx', 'Safari Emirates.csv', 'Safari Emirates.xlsx', 'Safari Qatar.csv', 'Safari Qatar.xlsx', 'Spar Nederland.csv', 'Spar Nederland.xlsx', 'Spar Qatar.csv', 'Spar Qatar.xlsx', 'Spinneys.csv', 'Spinneys.xlsx', 'Tahimi_Arabie.csv', 'Tahimi_Arabie.xlsx', 'Tiptop.csv', 'Tiptop.xlsx', 'Tops_Thailand.csv', 'Tops_Thailand.xlsx', 'Utenos Litouwen.csv', 'Utenos Litouwen.xlsx', 'Waitrose.csv', 'Waitrose.xlsx', 'Woolworths.csv', 'Woolworths.xlsx', 'Yogya.csv', 'Yogya.xlsx']\n",
      "Albert Heijn.csv\n",
      "Aljazira.csv\n",
      "Amazon.csv\n",
      "Auchan Polen.csv\n",
      "Auchan.csv\n",
      "BigBasket.csv\n",
      "Bompreco.csv\n",
      "Carrefour Tunesie.csv\n",
      "Carrefour_Arabie.csv\n",
      "Carrefour_Brazilie.csv\n",
      "Carrefour_Emirates.csv\n",
      "Chata Polska.csv\n",
      "Choithrams.csv\n",
      "CIA Market Litouwen.csv\n",
      "Cityflower Arabia.csv\n",
      "Combi.csv\n",
      "Condor.csv\n",
      "Costco.csv\n",
      "Danube.csv\n",
      "Drive Polen.csv\n",
      "Gopuff.csv\n",
      "Gruste Litouwen.csv\n",
      "Hannaford.csv\n",
      "JD.JD.csv\n",
      "Jumbo.csv\n",
      "Kaufland.csv\n",
      "Leclerc Polen.csv\n",
      "Lulu Emirates.csv\n",
      "Lulu Indonesia.csv\n",
      "Lulu Saudi Arabie.csv\n",
      "Monoprix Tunesie.csv\n",
      "Netto.csv\n",
      "Othaim Arabia.csv\n",
      "Pao de Acucar.csv\n",
      "Rimi Litouwen.csv\n",
      "Safari Emirates.csv\n",
      "Safari Qatar.csv\n",
      "Spar Nederland.csv\n",
      "Spar Qatar.csv\n",
      "Spinneys.csv\n",
      "Tahimi_Arabie.csv\n",
      "Tiptop.csv\n",
      "Tops_Thailand.csv\n",
      "Utenos Litouwen.csv\n",
      "Waitrose.csv\n",
      "Woolworths.csv\n",
      "Yogya.csv\n"
     ]
    }
   ],
   "source": [
    "remove_files()"
   ]
  },
  {
   "cell_type": "code",
   "execution_count": null,
   "id": "83d24bea",
   "metadata": {},
   "outputs": [],
   "source": []
  }
 ],
 "metadata": {
  "kernelspec": {
   "display_name": "Python 3 (ipykernel)",
   "language": "python",
   "name": "python3"
  },
  "language_info": {
   "codemirror_mode": {
    "name": "ipython",
    "version": 3
   },
   "file_extension": ".py",
   "mimetype": "text/x-python",
   "name": "python",
   "nbconvert_exporter": "python",
   "pygments_lexer": "ipython3",
   "version": "3.9.7"
  }
 },
 "nbformat": 4,
 "nbformat_minor": 5
}
